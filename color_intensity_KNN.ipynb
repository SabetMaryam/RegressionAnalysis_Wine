{
  "nbformat": 4,
  "nbformat_minor": 0,
  "metadata": {
    "colab": {
      "provenance": []
    },
    "kernelspec": {
      "name": "python3",
      "display_name": "Python 3"
    },
    "language_info": {
      "name": "python"
    }
  },
  "cells": [
    {
      "cell_type": "markdown",
      "source": [
        "## Import Libraries"
      ],
      "metadata": {
        "id": "pgnq5XiBSCIC"
      }
    },
    {
      "cell_type": "code",
      "execution_count": 135,
      "metadata": {
        "id": "QchSPUlPND4C"
      },
      "outputs": [],
      "source": [
        "import pandas as pd\n",
        "import numpy as np\n",
        "import plotly.graph_objs as go\n",
        "import plotly.express as px\n",
        "import plotly.figure_factory as ff\n",
        "\n",
        "from sklearn.datasets import load_wine\n",
        "from sklearn.preprocessing import MinMaxScaler, PolynomialFeatures\n",
        "from sklearn.model_selection import train_test_split, GridSearchCV, cross_val_score\n",
        "from sklearn.neighbors import KNeighborsRegressor\n",
        "from sklearn.metrics import mean_squared_error, r2_score, mean_absolute_error\n",
        "from sklearn.ensemble import IsolationForest\n",
        "from sklearn.decomposition import PCA\n",
        "from sklearn.inspection import permutation_importance"
      ]
    },
    {
      "cell_type": "markdown",
      "source": [
        "## Load Dataset"
      ],
      "metadata": {
        "id": "pAZ5fcrSSGad"
      }
    },
    {
      "cell_type": "code",
      "source": [
        "data = load_wine().data\n",
        "target = load_wine().target\n",
        "\n",
        "f_names = load_wine().feature_names\n",
        "f_targets = load_wine().target_names"
      ],
      "metadata": {
        "id": "mTfeUivINHCs"
      },
      "execution_count": 136,
      "outputs": []
    },
    {
      "cell_type": "code",
      "source": [
        "df = pd.DataFrame(data, columns=f_names)"
      ],
      "metadata": {
        "id": "sAK1bqqYNJdM"
      },
      "execution_count": 137,
      "outputs": []
    },
    {
      "cell_type": "markdown",
      "source": [
        "## Preprocessing"
      ],
      "metadata": {
        "id": "HK48L0dRNl5n"
      }
    },
    {
      "cell_type": "code",
      "source": [
        "# train_test split\n",
        "y = df['color_intensity']\n",
        "X = df.drop(['color_intensity'], axis=1)\n",
        "X_train, X_test, y_train, y_test = train_test_split(X,\n",
        "                                                    y,\n",
        "                                                    test_size=0.2,\n",
        "                                                    shuffle=True,\n",
        "                                                    random_state=42,\n",
        "                                                    )"
      ],
      "metadata": {
        "id": "wv7ZbBIsNVpr"
      },
      "execution_count": 138,
      "outputs": []
    },
    {
      "cell_type": "code",
      "source": [
        "# scale the features\n",
        "mms = MinMaxScaler()\n",
        "mms.fit(X_train)\n",
        "X_train = mms.transform(X_train)\n",
        "X_test = mms.transform(X_test)"
      ],
      "metadata": {
        "id": "4rI9kDFXNbiI"
      },
      "execution_count": 139,
      "outputs": []
    },
    {
      "cell_type": "markdown",
      "source": [
        "### Outlier Detection and Removal with IsolationForest\n",
        "\n",
        "> IsolationForest: This is an ensemble method used for anomaly detection (outlier detection). It works by randomly selecting a feature and then randomly selecting a split value between the maximum and minimum values of the selected feature. The key idea is that outliers are \"few and different,\" so they can be isolated quickly. The more isolation (splits) required to separate a data point, the more likely it is an inlier."
      ],
      "metadata": {
        "id": "UhqUEoddRpeW"
      }
    },
    {
      "cell_type": "code",
      "source": [
        "# Detect outliers\n",
        "iso = IsolationForest(contamination=0.05, random_state=42)  # contamination specifies the proportion of the dataset that is expected to be outliers\n",
        "yhat = iso.fit_predict(X_train)\n",
        "# -1: Indicates that the data point is considered an outlier (anomalous)\n",
        "mask = yhat != -1\n",
        "# X_train[mask, :]: Filters the X_train array, keeping only the rows (data points) where the mask is True (inliers)\n",
        "X_train, y_train = X_train[mask, :], y_train[mask]"
      ],
      "metadata": {
        "id": "nyDslVZtRmpM"
      },
      "execution_count": 140,
      "outputs": []
    },
    {
      "cell_type": "markdown",
      "source": [
        "### Polynomial Features\n",
        "\n",
        "\n",
        "> PolynomialFeatures: This is a utility provided by scikit-learn that generates new features by taking existing features and creating interactions between them, as well as raising them to a certain power (degree). It's a common technique in machine learning to allow models to capture non-linear relationships in the data.\n",
        "\n",
        "\n",
        "\n",
        "> degree=2: This parameter specifies the degree of the polynomial features. A degree of 2 means that it will create:\n",
        "\n",
        "*   Original features (degree 1)\n",
        "*   Squared features (degree 2)\n",
        "*   Interaction features (product of pairs of features)."
      ],
      "metadata": {
        "id": "dsn5Yt2pWTbL"
      }
    },
    {
      "cell_type": "code",
      "source": [
        "# Polynomial Features (Adjust degree or features as necessary)\n",
        "poly = PolynomialFeatures(degree=2, include_bias=False)\n",
        "X_train = poly.fit_transform(X_train)\n",
        "X_test = poly.transform(X_test)"
      ],
      "metadata": {
        "id": "IrDWqAeAWSTx"
      },
      "execution_count": 141,
      "outputs": []
    },
    {
      "cell_type": "markdown",
      "source": [
        "### Dimensionality Reduction"
      ],
      "metadata": {
        "id": "uZXJeANsWFyu"
      }
    },
    {
      "cell_type": "code",
      "source": [
        "# Dimensionality Reduction with PCA\n",
        "pca = PCA(n_components=0.97)  # Retain 97% of variance\n",
        "X_train = pca.fit_transform(X_train)\n",
        "X_test = pca.transform(X_test)"
      ],
      "metadata": {
        "id": "E1d2MXX9WFMf"
      },
      "execution_count": 142,
      "outputs": []
    },
    {
      "cell_type": "markdown",
      "source": [
        "### Hyperparameter Tuning"
      ],
      "metadata": {
        "id": "mcakmNAkQ8yL"
      }
    },
    {
      "cell_type": "code",
      "source": [
        "# Hyperparameter Tuning with Grid Search\n",
        "param_grid = {\n",
        "    'n_neighbors': range(3, 11),\n",
        "    'metric': ['euclidean', 'manhattan', 'minkowski'],\n",
        "    'weights': ['uniform', 'distance'],\n",
        "    'p': [1, 2]  # Only relevant for Minkowski metric\n",
        "}\n",
        "\n",
        "grid_search = GridSearchCV(KNeighborsRegressor(), param_grid, cv=10, scoring='r2', verbose=1)\n",
        "grid_search.fit(X_train, y_train)\n",
        "\n",
        "# Best parameters and score\n",
        "best_params = grid_search.best_params_\n",
        "print(f'Best Parameters: {best_params}')"
      ],
      "metadata": {
        "colab": {
          "base_uri": "https://localhost:8080/"
        },
        "id": "KgkkmPkBQ6M8",
        "outputId": "2361bca2-306d-461e-f188-5c34c51bb24f"
      },
      "execution_count": 143,
      "outputs": [
        {
          "output_type": "stream",
          "name": "stdout",
          "text": [
            "Fitting 10 folds for each of 96 candidates, totalling 960 fits\n",
            "Best Parameters: {'metric': 'euclidean', 'n_neighbors': 8, 'p': 1, 'weights': 'distance'}\n"
          ]
        }
      ]
    },
    {
      "cell_type": "markdown",
      "source": [
        "## Model Training"
      ],
      "metadata": {
        "id": "zngWBZLuNjOC"
      }
    },
    {
      "cell_type": "code",
      "source": [
        "# Train the model\n",
        "knn_model = KNeighborsRegressor(n_neighbors=best_params['n_neighbors'],\n",
        "                                metric=best_params['metric'],\n",
        "                                weights=best_params['weights'],\n",
        "                                p=best_params.get('p', 2))\n",
        "\n",
        "knn_model.fit(X_train, y_train)"
      ],
      "metadata": {
        "colab": {
          "base_uri": "https://localhost:8080/",
          "height": 75
        },
        "id": "Jneyc1mhNhEd",
        "outputId": "9618bc44-ed27-406d-ba97-27c9c141cea5"
      },
      "execution_count": 144,
      "outputs": [
        {
          "output_type": "execute_result",
          "data": {
            "text/plain": [
              "KNeighborsRegressor(metric='euclidean', n_neighbors=8, p=1, weights='distance')"
            ],
            "text/html": [
              "<style>#sk-container-id-21 {color: black;}#sk-container-id-21 pre{padding: 0;}#sk-container-id-21 div.sk-toggleable {background-color: white;}#sk-container-id-21 label.sk-toggleable__label {cursor: pointer;display: block;width: 100%;margin-bottom: 0;padding: 0.3em;box-sizing: border-box;text-align: center;}#sk-container-id-21 label.sk-toggleable__label-arrow:before {content: \"▸\";float: left;margin-right: 0.25em;color: #696969;}#sk-container-id-21 label.sk-toggleable__label-arrow:hover:before {color: black;}#sk-container-id-21 div.sk-estimator:hover label.sk-toggleable__label-arrow:before {color: black;}#sk-container-id-21 div.sk-toggleable__content {max-height: 0;max-width: 0;overflow: hidden;text-align: left;background-color: #f0f8ff;}#sk-container-id-21 div.sk-toggleable__content pre {margin: 0.2em;color: black;border-radius: 0.25em;background-color: #f0f8ff;}#sk-container-id-21 input.sk-toggleable__control:checked~div.sk-toggleable__content {max-height: 200px;max-width: 100%;overflow: auto;}#sk-container-id-21 input.sk-toggleable__control:checked~label.sk-toggleable__label-arrow:before {content: \"▾\";}#sk-container-id-21 div.sk-estimator input.sk-toggleable__control:checked~label.sk-toggleable__label {background-color: #d4ebff;}#sk-container-id-21 div.sk-label input.sk-toggleable__control:checked~label.sk-toggleable__label {background-color: #d4ebff;}#sk-container-id-21 input.sk-hidden--visually {border: 0;clip: rect(1px 1px 1px 1px);clip: rect(1px, 1px, 1px, 1px);height: 1px;margin: -1px;overflow: hidden;padding: 0;position: absolute;width: 1px;}#sk-container-id-21 div.sk-estimator {font-family: monospace;background-color: #f0f8ff;border: 1px dotted black;border-radius: 0.25em;box-sizing: border-box;margin-bottom: 0.5em;}#sk-container-id-21 div.sk-estimator:hover {background-color: #d4ebff;}#sk-container-id-21 div.sk-parallel-item::after {content: \"\";width: 100%;border-bottom: 1px solid gray;flex-grow: 1;}#sk-container-id-21 div.sk-label:hover label.sk-toggleable__label {background-color: #d4ebff;}#sk-container-id-21 div.sk-serial::before {content: \"\";position: absolute;border-left: 1px solid gray;box-sizing: border-box;top: 0;bottom: 0;left: 50%;z-index: 0;}#sk-container-id-21 div.sk-serial {display: flex;flex-direction: column;align-items: center;background-color: white;padding-right: 0.2em;padding-left: 0.2em;position: relative;}#sk-container-id-21 div.sk-item {position: relative;z-index: 1;}#sk-container-id-21 div.sk-parallel {display: flex;align-items: stretch;justify-content: center;background-color: white;position: relative;}#sk-container-id-21 div.sk-item::before, #sk-container-id-21 div.sk-parallel-item::before {content: \"\";position: absolute;border-left: 1px solid gray;box-sizing: border-box;top: 0;bottom: 0;left: 50%;z-index: -1;}#sk-container-id-21 div.sk-parallel-item {display: flex;flex-direction: column;z-index: 1;position: relative;background-color: white;}#sk-container-id-21 div.sk-parallel-item:first-child::after {align-self: flex-end;width: 50%;}#sk-container-id-21 div.sk-parallel-item:last-child::after {align-self: flex-start;width: 50%;}#sk-container-id-21 div.sk-parallel-item:only-child::after {width: 0;}#sk-container-id-21 div.sk-dashed-wrapped {border: 1px dashed gray;margin: 0 0.4em 0.5em 0.4em;box-sizing: border-box;padding-bottom: 0.4em;background-color: white;}#sk-container-id-21 div.sk-label label {font-family: monospace;font-weight: bold;display: inline-block;line-height: 1.2em;}#sk-container-id-21 div.sk-label-container {text-align: center;}#sk-container-id-21 div.sk-container {/* jupyter's `normalize.less` sets `[hidden] { display: none; }` but bootstrap.min.css set `[hidden] { display: none !important; }` so we also need the `!important` here to be able to override the default hidden behavior on the sphinx rendered scikit-learn.org. See: https://github.com/scikit-learn/scikit-learn/issues/21755 */display: inline-block !important;position: relative;}#sk-container-id-21 div.sk-text-repr-fallback {display: none;}</style><div id=\"sk-container-id-21\" class=\"sk-top-container\"><div class=\"sk-text-repr-fallback\"><pre>KNeighborsRegressor(metric=&#x27;euclidean&#x27;, n_neighbors=8, p=1, weights=&#x27;distance&#x27;)</pre><b>In a Jupyter environment, please rerun this cell to show the HTML representation or trust the notebook. <br />On GitHub, the HTML representation is unable to render, please try loading this page with nbviewer.org.</b></div><div class=\"sk-container\" hidden><div class=\"sk-item\"><div class=\"sk-estimator sk-toggleable\"><input class=\"sk-toggleable__control sk-hidden--visually\" id=\"sk-estimator-id-21\" type=\"checkbox\" checked><label for=\"sk-estimator-id-21\" class=\"sk-toggleable__label sk-toggleable__label-arrow\">KNeighborsRegressor</label><div class=\"sk-toggleable__content\"><pre>KNeighborsRegressor(metric=&#x27;euclidean&#x27;, n_neighbors=8, p=1, weights=&#x27;distance&#x27;)</pre></div></div></div></div></div>"
            ]
          },
          "metadata": {},
          "execution_count": 144
        }
      ]
    },
    {
      "cell_type": "code",
      "source": [
        "# Predict and evaluate\n",
        "y_pred = knn_model.predict(X_test)\n",
        "\n",
        "# evaluate the model\n",
        "r2 = r2_score(y_test, y_pred)\n",
        "mse = mean_squared_error(y_test, y_pred)\n",
        "mae = mean_absolute_error(y_test, y_pred)\n",
        "\n",
        "print(f'R2: {r2}, MSE: {mse}, MAE: {mae}')"
      ],
      "metadata": {
        "colab": {
          "base_uri": "https://localhost:8080/"
        },
        "id": "l5_mItAVUFXh",
        "outputId": "f87d7fbf-ffe1-4840-830e-6de7b7ce5363"
      },
      "execution_count": 145,
      "outputs": [
        {
          "output_type": "stream",
          "name": "stdout",
          "text": [
            "R2: 0.6098865986616724, MSE: 2.006912280727789, MAE: 1.065897805687784\n"
          ]
        }
      ]
    },
    {
      "cell_type": "markdown",
      "source": [
        "## Visualization"
      ],
      "metadata": {
        "id": "JLb9NuiAbPp5"
      }
    },
    {
      "cell_type": "code",
      "source": [
        "# 1. Actual vs. Predicted Values Plot (Plotly)\n",
        "fig_actual_vs_pred = go.Figure()\n",
        "\n",
        "# Scatter plot of actual vs predicted values\n",
        "fig_actual_vs_pred.add_trace(go.Scatter(\n",
        "    x=y_test,\n",
        "    y=y_pred,\n",
        "    mode='markers',\n",
        "    marker=dict(color='blue', opacity=0.6),\n",
        "    name='Predicted vs Actual'\n",
        "))\n",
        "\n",
        "# Add a diagonal line representing perfect predictions\n",
        "fig_actual_vs_pred.add_trace(go.Scatter(\n",
        "    x=[min(y_test), max(y_test)],\n",
        "    y=[min(y_test), max(y_test)],\n",
        "    mode='lines',\n",
        "    line=dict(color='red', dash='dash'),\n",
        "    name='Perfect Prediction'\n",
        "))\n",
        "\n",
        "fig_actual_vs_pred.update_layout(\n",
        "    title='Actual vs. Predicted Values',\n",
        "    xaxis_title='Actual Values',\n",
        "    yaxis_title='Predicted Values',\n",
        "    showlegend=True\n",
        ")\n",
        "\n",
        "fig_actual_vs_pred.show()"
      ],
      "metadata": {
        "colab": {
          "base_uri": "https://localhost:8080/",
          "height": 542
        },
        "id": "L1RsTWQFbiak",
        "outputId": "9dca2e5f-9f56-4bb9-d8f5-edba8dd4b3f0"
      },
      "execution_count": 146,
      "outputs": [
        {
          "output_type": "display_data",
          "data": {
            "text/html": [
              "<html>\n",
              "<head><meta charset=\"utf-8\" /></head>\n",
              "<body>\n",
              "    <div>            <script src=\"https://cdnjs.cloudflare.com/ajax/libs/mathjax/2.7.5/MathJax.js?config=TeX-AMS-MML_SVG\"></script><script type=\"text/javascript\">if (window.MathJax && window.MathJax.Hub && window.MathJax.Hub.Config) {window.MathJax.Hub.Config({SVG: {font: \"STIX-Web\"}});}</script>                <script type=\"text/javascript\">window.PlotlyConfig = {MathJaxConfig: 'local'};</script>\n",
              "        <script charset=\"utf-8\" src=\"https://cdn.plot.ly/plotly-2.24.1.min.js\"></script>                <div id=\"adff4a80-b7ba-4305-b207-2fc2eaf2794d\" class=\"plotly-graph-div\" style=\"height:525px; width:100%;\"></div>            <script type=\"text/javascript\">                                    window.PLOTLYENV=window.PLOTLYENV || {};                                    if (document.getElementById(\"adff4a80-b7ba-4305-b207-2fc2eaf2794d\")) {                    Plotly.newPlot(                        \"adff4a80-b7ba-4305-b207-2fc2eaf2794d\",                        [{\"marker\":{\"color\":\"blue\",\"opacity\":0.6},\"mode\":\"markers\",\"name\":\"Predicted vs Actual\",\"x\":[5.1,5.24,4.6,5.7,4.68,6.2,1.28,7.3,2.65,5.6,3.52,8.6,4.28,3.4,7.3,2.0,3.08,2.2,7.22,2.9,8.7,5.3,3.27,8.5,9.899999,9.58,2.06,4.6,2.4,6.25,4.7,2.12,4.0,6.9,5.6,5.43],\"y\":[5.303982121501231,5.095708465436094,6.266738403340178,6.39604082109696,2.8391984390381206,6.338041403199146,2.5861219706770218,9.045558139939441,3.3324287839175755,7.109893444659791,4.468252704717975,7.899364080748369,4.344526757954742,6.463758566992939,6.074993177515485,2.811481684145565,2.6445905139800994,2.6985514680665803,5.718496351989496,2.7441495510778147,6.8872085258601565,3.564085440585528,4.732976302848515,8.208097237975146,7.160075735409092,8.411103726012197,2.846942452411186,3.414977117614827,3.3260268191834212,6.353461496941767,5.069793693688209,3.0507467120348633,8.55155748909709,6.457984242218822,5.430565401931158,5.786038775738433],\"type\":\"scatter\"},{\"line\":{\"color\":\"red\",\"dash\":\"dash\"},\"mode\":\"lines\",\"name\":\"Perfect Prediction\",\"x\":[1.28,9.899999],\"y\":[1.28,9.899999],\"type\":\"scatter\"}],                        {\"template\":{\"data\":{\"histogram2dcontour\":[{\"type\":\"histogram2dcontour\",\"colorbar\":{\"outlinewidth\":0,\"ticks\":\"\"},\"colorscale\":[[0.0,\"#0d0887\"],[0.1111111111111111,\"#46039f\"],[0.2222222222222222,\"#7201a8\"],[0.3333333333333333,\"#9c179e\"],[0.4444444444444444,\"#bd3786\"],[0.5555555555555556,\"#d8576b\"],[0.6666666666666666,\"#ed7953\"],[0.7777777777777778,\"#fb9f3a\"],[0.8888888888888888,\"#fdca26\"],[1.0,\"#f0f921\"]]}],\"choropleth\":[{\"type\":\"choropleth\",\"colorbar\":{\"outlinewidth\":0,\"ticks\":\"\"}}],\"histogram2d\":[{\"type\":\"histogram2d\",\"colorbar\":{\"outlinewidth\":0,\"ticks\":\"\"},\"colorscale\":[[0.0,\"#0d0887\"],[0.1111111111111111,\"#46039f\"],[0.2222222222222222,\"#7201a8\"],[0.3333333333333333,\"#9c179e\"],[0.4444444444444444,\"#bd3786\"],[0.5555555555555556,\"#d8576b\"],[0.6666666666666666,\"#ed7953\"],[0.7777777777777778,\"#fb9f3a\"],[0.8888888888888888,\"#fdca26\"],[1.0,\"#f0f921\"]]}],\"heatmap\":[{\"type\":\"heatmap\",\"colorbar\":{\"outlinewidth\":0,\"ticks\":\"\"},\"colorscale\":[[0.0,\"#0d0887\"],[0.1111111111111111,\"#46039f\"],[0.2222222222222222,\"#7201a8\"],[0.3333333333333333,\"#9c179e\"],[0.4444444444444444,\"#bd3786\"],[0.5555555555555556,\"#d8576b\"],[0.6666666666666666,\"#ed7953\"],[0.7777777777777778,\"#fb9f3a\"],[0.8888888888888888,\"#fdca26\"],[1.0,\"#f0f921\"]]}],\"heatmapgl\":[{\"type\":\"heatmapgl\",\"colorbar\":{\"outlinewidth\":0,\"ticks\":\"\"},\"colorscale\":[[0.0,\"#0d0887\"],[0.1111111111111111,\"#46039f\"],[0.2222222222222222,\"#7201a8\"],[0.3333333333333333,\"#9c179e\"],[0.4444444444444444,\"#bd3786\"],[0.5555555555555556,\"#d8576b\"],[0.6666666666666666,\"#ed7953\"],[0.7777777777777778,\"#fb9f3a\"],[0.8888888888888888,\"#fdca26\"],[1.0,\"#f0f921\"]]}],\"contourcarpet\":[{\"type\":\"contourcarpet\",\"colorbar\":{\"outlinewidth\":0,\"ticks\":\"\"}}],\"contour\":[{\"type\":\"contour\",\"colorbar\":{\"outlinewidth\":0,\"ticks\":\"\"},\"colorscale\":[[0.0,\"#0d0887\"],[0.1111111111111111,\"#46039f\"],[0.2222222222222222,\"#7201a8\"],[0.3333333333333333,\"#9c179e\"],[0.4444444444444444,\"#bd3786\"],[0.5555555555555556,\"#d8576b\"],[0.6666666666666666,\"#ed7953\"],[0.7777777777777778,\"#fb9f3a\"],[0.8888888888888888,\"#fdca26\"],[1.0,\"#f0f921\"]]}],\"surface\":[{\"type\":\"surface\",\"colorbar\":{\"outlinewidth\":0,\"ticks\":\"\"},\"colorscale\":[[0.0,\"#0d0887\"],[0.1111111111111111,\"#46039f\"],[0.2222222222222222,\"#7201a8\"],[0.3333333333333333,\"#9c179e\"],[0.4444444444444444,\"#bd3786\"],[0.5555555555555556,\"#d8576b\"],[0.6666666666666666,\"#ed7953\"],[0.7777777777777778,\"#fb9f3a\"],[0.8888888888888888,\"#fdca26\"],[1.0,\"#f0f921\"]]}],\"mesh3d\":[{\"type\":\"mesh3d\",\"colorbar\":{\"outlinewidth\":0,\"ticks\":\"\"}}],\"scatter\":[{\"fillpattern\":{\"fillmode\":\"overlay\",\"size\":10,\"solidity\":0.2},\"type\":\"scatter\"}],\"parcoords\":[{\"type\":\"parcoords\",\"line\":{\"colorbar\":{\"outlinewidth\":0,\"ticks\":\"\"}}}],\"scatterpolargl\":[{\"type\":\"scatterpolargl\",\"marker\":{\"colorbar\":{\"outlinewidth\":0,\"ticks\":\"\"}}}],\"bar\":[{\"error_x\":{\"color\":\"#2a3f5f\"},\"error_y\":{\"color\":\"#2a3f5f\"},\"marker\":{\"line\":{\"color\":\"#E5ECF6\",\"width\":0.5},\"pattern\":{\"fillmode\":\"overlay\",\"size\":10,\"solidity\":0.2}},\"type\":\"bar\"}],\"scattergeo\":[{\"type\":\"scattergeo\",\"marker\":{\"colorbar\":{\"outlinewidth\":0,\"ticks\":\"\"}}}],\"scatterpolar\":[{\"type\":\"scatterpolar\",\"marker\":{\"colorbar\":{\"outlinewidth\":0,\"ticks\":\"\"}}}],\"histogram\":[{\"marker\":{\"pattern\":{\"fillmode\":\"overlay\",\"size\":10,\"solidity\":0.2}},\"type\":\"histogram\"}],\"scattergl\":[{\"type\":\"scattergl\",\"marker\":{\"colorbar\":{\"outlinewidth\":0,\"ticks\":\"\"}}}],\"scatter3d\":[{\"type\":\"scatter3d\",\"line\":{\"colorbar\":{\"outlinewidth\":0,\"ticks\":\"\"}},\"marker\":{\"colorbar\":{\"outlinewidth\":0,\"ticks\":\"\"}}}],\"scattermapbox\":[{\"type\":\"scattermapbox\",\"marker\":{\"colorbar\":{\"outlinewidth\":0,\"ticks\":\"\"}}}],\"scatterternary\":[{\"type\":\"scatterternary\",\"marker\":{\"colorbar\":{\"outlinewidth\":0,\"ticks\":\"\"}}}],\"scattercarpet\":[{\"type\":\"scattercarpet\",\"marker\":{\"colorbar\":{\"outlinewidth\":0,\"ticks\":\"\"}}}],\"carpet\":[{\"aaxis\":{\"endlinecolor\":\"#2a3f5f\",\"gridcolor\":\"white\",\"linecolor\":\"white\",\"minorgridcolor\":\"white\",\"startlinecolor\":\"#2a3f5f\"},\"baxis\":{\"endlinecolor\":\"#2a3f5f\",\"gridcolor\":\"white\",\"linecolor\":\"white\",\"minorgridcolor\":\"white\",\"startlinecolor\":\"#2a3f5f\"},\"type\":\"carpet\"}],\"table\":[{\"cells\":{\"fill\":{\"color\":\"#EBF0F8\"},\"line\":{\"color\":\"white\"}},\"header\":{\"fill\":{\"color\":\"#C8D4E3\"},\"line\":{\"color\":\"white\"}},\"type\":\"table\"}],\"barpolar\":[{\"marker\":{\"line\":{\"color\":\"#E5ECF6\",\"width\":0.5},\"pattern\":{\"fillmode\":\"overlay\",\"size\":10,\"solidity\":0.2}},\"type\":\"barpolar\"}],\"pie\":[{\"automargin\":true,\"type\":\"pie\"}]},\"layout\":{\"autotypenumbers\":\"strict\",\"colorway\":[\"#636efa\",\"#EF553B\",\"#00cc96\",\"#ab63fa\",\"#FFA15A\",\"#19d3f3\",\"#FF6692\",\"#B6E880\",\"#FF97FF\",\"#FECB52\"],\"font\":{\"color\":\"#2a3f5f\"},\"hovermode\":\"closest\",\"hoverlabel\":{\"align\":\"left\"},\"paper_bgcolor\":\"white\",\"plot_bgcolor\":\"#E5ECF6\",\"polar\":{\"bgcolor\":\"#E5ECF6\",\"angularaxis\":{\"gridcolor\":\"white\",\"linecolor\":\"white\",\"ticks\":\"\"},\"radialaxis\":{\"gridcolor\":\"white\",\"linecolor\":\"white\",\"ticks\":\"\"}},\"ternary\":{\"bgcolor\":\"#E5ECF6\",\"aaxis\":{\"gridcolor\":\"white\",\"linecolor\":\"white\",\"ticks\":\"\"},\"baxis\":{\"gridcolor\":\"white\",\"linecolor\":\"white\",\"ticks\":\"\"},\"caxis\":{\"gridcolor\":\"white\",\"linecolor\":\"white\",\"ticks\":\"\"}},\"coloraxis\":{\"colorbar\":{\"outlinewidth\":0,\"ticks\":\"\"}},\"colorscale\":{\"sequential\":[[0.0,\"#0d0887\"],[0.1111111111111111,\"#46039f\"],[0.2222222222222222,\"#7201a8\"],[0.3333333333333333,\"#9c179e\"],[0.4444444444444444,\"#bd3786\"],[0.5555555555555556,\"#d8576b\"],[0.6666666666666666,\"#ed7953\"],[0.7777777777777778,\"#fb9f3a\"],[0.8888888888888888,\"#fdca26\"],[1.0,\"#f0f921\"]],\"sequentialminus\":[[0.0,\"#0d0887\"],[0.1111111111111111,\"#46039f\"],[0.2222222222222222,\"#7201a8\"],[0.3333333333333333,\"#9c179e\"],[0.4444444444444444,\"#bd3786\"],[0.5555555555555556,\"#d8576b\"],[0.6666666666666666,\"#ed7953\"],[0.7777777777777778,\"#fb9f3a\"],[0.8888888888888888,\"#fdca26\"],[1.0,\"#f0f921\"]],\"diverging\":[[0,\"#8e0152\"],[0.1,\"#c51b7d\"],[0.2,\"#de77ae\"],[0.3,\"#f1b6da\"],[0.4,\"#fde0ef\"],[0.5,\"#f7f7f7\"],[0.6,\"#e6f5d0\"],[0.7,\"#b8e186\"],[0.8,\"#7fbc41\"],[0.9,\"#4d9221\"],[1,\"#276419\"]]},\"xaxis\":{\"gridcolor\":\"white\",\"linecolor\":\"white\",\"ticks\":\"\",\"title\":{\"standoff\":15},\"zerolinecolor\":\"white\",\"automargin\":true,\"zerolinewidth\":2},\"yaxis\":{\"gridcolor\":\"white\",\"linecolor\":\"white\",\"ticks\":\"\",\"title\":{\"standoff\":15},\"zerolinecolor\":\"white\",\"automargin\":true,\"zerolinewidth\":2},\"scene\":{\"xaxis\":{\"backgroundcolor\":\"#E5ECF6\",\"gridcolor\":\"white\",\"linecolor\":\"white\",\"showbackground\":true,\"ticks\":\"\",\"zerolinecolor\":\"white\",\"gridwidth\":2},\"yaxis\":{\"backgroundcolor\":\"#E5ECF6\",\"gridcolor\":\"white\",\"linecolor\":\"white\",\"showbackground\":true,\"ticks\":\"\",\"zerolinecolor\":\"white\",\"gridwidth\":2},\"zaxis\":{\"backgroundcolor\":\"#E5ECF6\",\"gridcolor\":\"white\",\"linecolor\":\"white\",\"showbackground\":true,\"ticks\":\"\",\"zerolinecolor\":\"white\",\"gridwidth\":2}},\"shapedefaults\":{\"line\":{\"color\":\"#2a3f5f\"}},\"annotationdefaults\":{\"arrowcolor\":\"#2a3f5f\",\"arrowhead\":0,\"arrowwidth\":1},\"geo\":{\"bgcolor\":\"white\",\"landcolor\":\"#E5ECF6\",\"subunitcolor\":\"white\",\"showland\":true,\"showlakes\":true,\"lakecolor\":\"white\"},\"title\":{\"x\":0.05},\"mapbox\":{\"style\":\"light\"}}},\"title\":{\"text\":\"Actual vs. Predicted Values\"},\"xaxis\":{\"title\":{\"text\":\"Actual Values\"}},\"yaxis\":{\"title\":{\"text\":\"Predicted Values\"}},\"showlegend\":true},                        {\"responsive\": true}                    ).then(function(){\n",
              "                            \n",
              "var gd = document.getElementById('adff4a80-b7ba-4305-b207-2fc2eaf2794d');\n",
              "var x = new MutationObserver(function (mutations, observer) {{\n",
              "        var display = window.getComputedStyle(gd).display;\n",
              "        if (!display || display === 'none') {{\n",
              "            console.log([gd, 'removed!']);\n",
              "            Plotly.purge(gd);\n",
              "            observer.disconnect();\n",
              "        }}\n",
              "}});\n",
              "\n",
              "// Listen for the removal of the full notebook cells\n",
              "var notebookContainer = gd.closest('#notebook-container');\n",
              "if (notebookContainer) {{\n",
              "    x.observe(notebookContainer, {childList: true});\n",
              "}}\n",
              "\n",
              "// Listen for the clearing of the current output cell\n",
              "var outputEl = gd.closest('.output');\n",
              "if (outputEl) {{\n",
              "    x.observe(outputEl, {childList: true});\n",
              "}}\n",
              "\n",
              "                        })                };                            </script>        </div>\n",
              "</body>\n",
              "</html>"
            ]
          },
          "metadata": {}
        }
      ]
    },
    {
      "cell_type": "markdown",
      "source": [
        "\n",
        "\n",
        "> A Residual Plot is crucial for validating the assumptions of a regression model and ensuring that the model is performing well. In a well-fitted model, residuals should be randomly scattered around zero, indicating that the model captures the underlying data patterns without systematic bias.\n",
        "\n",
        "*Mathematically:  Residual = Actual Value − Predicted Value*\n",
        "\n",
        "Residuals measure the error in your predictions. A residual of 0 means the prediction was perfect for that data point."
      ],
      "metadata": {
        "id": "4JqXCp6DgB9n"
      }
    },
    {
      "cell_type": "code",
      "source": [
        "# 2. Residual Plot (Plotly)\n",
        "residuals = y_test - y_pred\n",
        "\n",
        "fig_residuals = go.Figure()\n",
        "\n",
        "# Scatter plot of residuals vs predicted values\n",
        "fig_residuals.add_trace(go.Scatter(\n",
        "    x=y_pred,\n",
        "    y=residuals,\n",
        "    mode='markers',\n",
        "    marker=dict(color='purple', opacity=0.6),\n",
        "    name='Residuals'\n",
        "))\n",
        "\n",
        "# Add a horizontal line at zero\n",
        "fig_residuals.add_trace(go.Scatter(\n",
        "    x=[min(y_pred), max(y_pred)],\n",
        "    y=[0, 0],\n",
        "    mode='lines',\n",
        "    line=dict(color='red', dash='dash'),\n",
        "    name='Zero Error Line'\n",
        "))\n",
        "\n",
        "fig_residuals.update_layout(\n",
        "    title='Residual Plot',\n",
        "    xaxis_title='Predicted Values',\n",
        "    yaxis_title='Residuals',\n",
        "    showlegend=True\n",
        ")\n",
        "\n",
        "fig_residuals.show()"
      ],
      "metadata": {
        "colab": {
          "base_uri": "https://localhost:8080/",
          "height": 542
        },
        "id": "aBvT0U1jb465",
        "outputId": "22292d61-34b1-4b26-9051-c5786c100fea"
      },
      "execution_count": 147,
      "outputs": [
        {
          "output_type": "display_data",
          "data": {
            "text/html": [
              "<html>\n",
              "<head><meta charset=\"utf-8\" /></head>\n",
              "<body>\n",
              "    <div>            <script src=\"https://cdnjs.cloudflare.com/ajax/libs/mathjax/2.7.5/MathJax.js?config=TeX-AMS-MML_SVG\"></script><script type=\"text/javascript\">if (window.MathJax && window.MathJax.Hub && window.MathJax.Hub.Config) {window.MathJax.Hub.Config({SVG: {font: \"STIX-Web\"}});}</script>                <script type=\"text/javascript\">window.PlotlyConfig = {MathJaxConfig: 'local'};</script>\n",
              "        <script charset=\"utf-8\" src=\"https://cdn.plot.ly/plotly-2.24.1.min.js\"></script>                <div id=\"782ca524-4af3-4e4d-aa81-d63901cca637\" class=\"plotly-graph-div\" style=\"height:525px; width:100%;\"></div>            <script type=\"text/javascript\">                                    window.PLOTLYENV=window.PLOTLYENV || {};                                    if (document.getElementById(\"782ca524-4af3-4e4d-aa81-d63901cca637\")) {                    Plotly.newPlot(                        \"782ca524-4af3-4e4d-aa81-d63901cca637\",                        [{\"marker\":{\"color\":\"purple\",\"opacity\":0.6},\"mode\":\"markers\",\"name\":\"Residuals\",\"x\":[5.303982121501231,5.095708465436094,6.266738403340178,6.39604082109696,2.8391984390381206,6.338041403199146,2.5861219706770218,9.045558139939441,3.3324287839175755,7.109893444659791,4.468252704717975,7.899364080748369,4.344526757954742,6.463758566992939,6.074993177515485,2.811481684145565,2.6445905139800994,2.6985514680665803,5.718496351989496,2.7441495510778147,6.8872085258601565,3.564085440585528,4.732976302848515,8.208097237975146,7.160075735409092,8.411103726012197,2.846942452411186,3.414977117614827,3.3260268191834212,6.353461496941767,5.069793693688209,3.0507467120348633,8.55155748909709,6.457984242218822,5.430565401931158,5.786038775738433],\"y\":[-0.20398212150123118,0.14429153456390598,-1.6667384033401786,-0.6960408210969602,1.840801560961879,-0.13804140319914548,-1.3061219706770217,-1.7455581399394413,-0.6824287839175756,-1.5098934446597916,-0.9482527047179752,0.7006359192516305,-0.0645267579547415,-3.0637585669929392,1.2250068224845148,-0.8114816841455652,0.4354094860199007,-0.49855146806658013,1.5015036480105035,0.15585044892218525,1.8127914741398428,1.7359145594144718,-1.462976302848515,0.2919027620248542,2.7399232645909075,1.1688962739878033,-0.7869424524111861,1.1850228823851725,-0.9260268191834213,-0.1034614969417671,-0.3697936936882087,-0.9307467120348631,-4.551557489097091,0.44201575778117874,0.16943459806884142,-0.35603877573843334],\"type\":\"scatter\"},{\"line\":{\"color\":\"red\",\"dash\":\"dash\"},\"mode\":\"lines\",\"name\":\"Zero Error Line\",\"x\":[2.5861219706770218,9.045558139939441],\"y\":[0,0],\"type\":\"scatter\"}],                        {\"template\":{\"data\":{\"histogram2dcontour\":[{\"type\":\"histogram2dcontour\",\"colorbar\":{\"outlinewidth\":0,\"ticks\":\"\"},\"colorscale\":[[0.0,\"#0d0887\"],[0.1111111111111111,\"#46039f\"],[0.2222222222222222,\"#7201a8\"],[0.3333333333333333,\"#9c179e\"],[0.4444444444444444,\"#bd3786\"],[0.5555555555555556,\"#d8576b\"],[0.6666666666666666,\"#ed7953\"],[0.7777777777777778,\"#fb9f3a\"],[0.8888888888888888,\"#fdca26\"],[1.0,\"#f0f921\"]]}],\"choropleth\":[{\"type\":\"choropleth\",\"colorbar\":{\"outlinewidth\":0,\"ticks\":\"\"}}],\"histogram2d\":[{\"type\":\"histogram2d\",\"colorbar\":{\"outlinewidth\":0,\"ticks\":\"\"},\"colorscale\":[[0.0,\"#0d0887\"],[0.1111111111111111,\"#46039f\"],[0.2222222222222222,\"#7201a8\"],[0.3333333333333333,\"#9c179e\"],[0.4444444444444444,\"#bd3786\"],[0.5555555555555556,\"#d8576b\"],[0.6666666666666666,\"#ed7953\"],[0.7777777777777778,\"#fb9f3a\"],[0.8888888888888888,\"#fdca26\"],[1.0,\"#f0f921\"]]}],\"heatmap\":[{\"type\":\"heatmap\",\"colorbar\":{\"outlinewidth\":0,\"ticks\":\"\"},\"colorscale\":[[0.0,\"#0d0887\"],[0.1111111111111111,\"#46039f\"],[0.2222222222222222,\"#7201a8\"],[0.3333333333333333,\"#9c179e\"],[0.4444444444444444,\"#bd3786\"],[0.5555555555555556,\"#d8576b\"],[0.6666666666666666,\"#ed7953\"],[0.7777777777777778,\"#fb9f3a\"],[0.8888888888888888,\"#fdca26\"],[1.0,\"#f0f921\"]]}],\"heatmapgl\":[{\"type\":\"heatmapgl\",\"colorbar\":{\"outlinewidth\":0,\"ticks\":\"\"},\"colorscale\":[[0.0,\"#0d0887\"],[0.1111111111111111,\"#46039f\"],[0.2222222222222222,\"#7201a8\"],[0.3333333333333333,\"#9c179e\"],[0.4444444444444444,\"#bd3786\"],[0.5555555555555556,\"#d8576b\"],[0.6666666666666666,\"#ed7953\"],[0.7777777777777778,\"#fb9f3a\"],[0.8888888888888888,\"#fdca26\"],[1.0,\"#f0f921\"]]}],\"contourcarpet\":[{\"type\":\"contourcarpet\",\"colorbar\":{\"outlinewidth\":0,\"ticks\":\"\"}}],\"contour\":[{\"type\":\"contour\",\"colorbar\":{\"outlinewidth\":0,\"ticks\":\"\"},\"colorscale\":[[0.0,\"#0d0887\"],[0.1111111111111111,\"#46039f\"],[0.2222222222222222,\"#7201a8\"],[0.3333333333333333,\"#9c179e\"],[0.4444444444444444,\"#bd3786\"],[0.5555555555555556,\"#d8576b\"],[0.6666666666666666,\"#ed7953\"],[0.7777777777777778,\"#fb9f3a\"],[0.8888888888888888,\"#fdca26\"],[1.0,\"#f0f921\"]]}],\"surface\":[{\"type\":\"surface\",\"colorbar\":{\"outlinewidth\":0,\"ticks\":\"\"},\"colorscale\":[[0.0,\"#0d0887\"],[0.1111111111111111,\"#46039f\"],[0.2222222222222222,\"#7201a8\"],[0.3333333333333333,\"#9c179e\"],[0.4444444444444444,\"#bd3786\"],[0.5555555555555556,\"#d8576b\"],[0.6666666666666666,\"#ed7953\"],[0.7777777777777778,\"#fb9f3a\"],[0.8888888888888888,\"#fdca26\"],[1.0,\"#f0f921\"]]}],\"mesh3d\":[{\"type\":\"mesh3d\",\"colorbar\":{\"outlinewidth\":0,\"ticks\":\"\"}}],\"scatter\":[{\"fillpattern\":{\"fillmode\":\"overlay\",\"size\":10,\"solidity\":0.2},\"type\":\"scatter\"}],\"parcoords\":[{\"type\":\"parcoords\",\"line\":{\"colorbar\":{\"outlinewidth\":0,\"ticks\":\"\"}}}],\"scatterpolargl\":[{\"type\":\"scatterpolargl\",\"marker\":{\"colorbar\":{\"outlinewidth\":0,\"ticks\":\"\"}}}],\"bar\":[{\"error_x\":{\"color\":\"#2a3f5f\"},\"error_y\":{\"color\":\"#2a3f5f\"},\"marker\":{\"line\":{\"color\":\"#E5ECF6\",\"width\":0.5},\"pattern\":{\"fillmode\":\"overlay\",\"size\":10,\"solidity\":0.2}},\"type\":\"bar\"}],\"scattergeo\":[{\"type\":\"scattergeo\",\"marker\":{\"colorbar\":{\"outlinewidth\":0,\"ticks\":\"\"}}}],\"scatterpolar\":[{\"type\":\"scatterpolar\",\"marker\":{\"colorbar\":{\"outlinewidth\":0,\"ticks\":\"\"}}}],\"histogram\":[{\"marker\":{\"pattern\":{\"fillmode\":\"overlay\",\"size\":10,\"solidity\":0.2}},\"type\":\"histogram\"}],\"scattergl\":[{\"type\":\"scattergl\",\"marker\":{\"colorbar\":{\"outlinewidth\":0,\"ticks\":\"\"}}}],\"scatter3d\":[{\"type\":\"scatter3d\",\"line\":{\"colorbar\":{\"outlinewidth\":0,\"ticks\":\"\"}},\"marker\":{\"colorbar\":{\"outlinewidth\":0,\"ticks\":\"\"}}}],\"scattermapbox\":[{\"type\":\"scattermapbox\",\"marker\":{\"colorbar\":{\"outlinewidth\":0,\"ticks\":\"\"}}}],\"scatterternary\":[{\"type\":\"scatterternary\",\"marker\":{\"colorbar\":{\"outlinewidth\":0,\"ticks\":\"\"}}}],\"scattercarpet\":[{\"type\":\"scattercarpet\",\"marker\":{\"colorbar\":{\"outlinewidth\":0,\"ticks\":\"\"}}}],\"carpet\":[{\"aaxis\":{\"endlinecolor\":\"#2a3f5f\",\"gridcolor\":\"white\",\"linecolor\":\"white\",\"minorgridcolor\":\"white\",\"startlinecolor\":\"#2a3f5f\"},\"baxis\":{\"endlinecolor\":\"#2a3f5f\",\"gridcolor\":\"white\",\"linecolor\":\"white\",\"minorgridcolor\":\"white\",\"startlinecolor\":\"#2a3f5f\"},\"type\":\"carpet\"}],\"table\":[{\"cells\":{\"fill\":{\"color\":\"#EBF0F8\"},\"line\":{\"color\":\"white\"}},\"header\":{\"fill\":{\"color\":\"#C8D4E3\"},\"line\":{\"color\":\"white\"}},\"type\":\"table\"}],\"barpolar\":[{\"marker\":{\"line\":{\"color\":\"#E5ECF6\",\"width\":0.5},\"pattern\":{\"fillmode\":\"overlay\",\"size\":10,\"solidity\":0.2}},\"type\":\"barpolar\"}],\"pie\":[{\"automargin\":true,\"type\":\"pie\"}]},\"layout\":{\"autotypenumbers\":\"strict\",\"colorway\":[\"#636efa\",\"#EF553B\",\"#00cc96\",\"#ab63fa\",\"#FFA15A\",\"#19d3f3\",\"#FF6692\",\"#B6E880\",\"#FF97FF\",\"#FECB52\"],\"font\":{\"color\":\"#2a3f5f\"},\"hovermode\":\"closest\",\"hoverlabel\":{\"align\":\"left\"},\"paper_bgcolor\":\"white\",\"plot_bgcolor\":\"#E5ECF6\",\"polar\":{\"bgcolor\":\"#E5ECF6\",\"angularaxis\":{\"gridcolor\":\"white\",\"linecolor\":\"white\",\"ticks\":\"\"},\"radialaxis\":{\"gridcolor\":\"white\",\"linecolor\":\"white\",\"ticks\":\"\"}},\"ternary\":{\"bgcolor\":\"#E5ECF6\",\"aaxis\":{\"gridcolor\":\"white\",\"linecolor\":\"white\",\"ticks\":\"\"},\"baxis\":{\"gridcolor\":\"white\",\"linecolor\":\"white\",\"ticks\":\"\"},\"caxis\":{\"gridcolor\":\"white\",\"linecolor\":\"white\",\"ticks\":\"\"}},\"coloraxis\":{\"colorbar\":{\"outlinewidth\":0,\"ticks\":\"\"}},\"colorscale\":{\"sequential\":[[0.0,\"#0d0887\"],[0.1111111111111111,\"#46039f\"],[0.2222222222222222,\"#7201a8\"],[0.3333333333333333,\"#9c179e\"],[0.4444444444444444,\"#bd3786\"],[0.5555555555555556,\"#d8576b\"],[0.6666666666666666,\"#ed7953\"],[0.7777777777777778,\"#fb9f3a\"],[0.8888888888888888,\"#fdca26\"],[1.0,\"#f0f921\"]],\"sequentialminus\":[[0.0,\"#0d0887\"],[0.1111111111111111,\"#46039f\"],[0.2222222222222222,\"#7201a8\"],[0.3333333333333333,\"#9c179e\"],[0.4444444444444444,\"#bd3786\"],[0.5555555555555556,\"#d8576b\"],[0.6666666666666666,\"#ed7953\"],[0.7777777777777778,\"#fb9f3a\"],[0.8888888888888888,\"#fdca26\"],[1.0,\"#f0f921\"]],\"diverging\":[[0,\"#8e0152\"],[0.1,\"#c51b7d\"],[0.2,\"#de77ae\"],[0.3,\"#f1b6da\"],[0.4,\"#fde0ef\"],[0.5,\"#f7f7f7\"],[0.6,\"#e6f5d0\"],[0.7,\"#b8e186\"],[0.8,\"#7fbc41\"],[0.9,\"#4d9221\"],[1,\"#276419\"]]},\"xaxis\":{\"gridcolor\":\"white\",\"linecolor\":\"white\",\"ticks\":\"\",\"title\":{\"standoff\":15},\"zerolinecolor\":\"white\",\"automargin\":true,\"zerolinewidth\":2},\"yaxis\":{\"gridcolor\":\"white\",\"linecolor\":\"white\",\"ticks\":\"\",\"title\":{\"standoff\":15},\"zerolinecolor\":\"white\",\"automargin\":true,\"zerolinewidth\":2},\"scene\":{\"xaxis\":{\"backgroundcolor\":\"#E5ECF6\",\"gridcolor\":\"white\",\"linecolor\":\"white\",\"showbackground\":true,\"ticks\":\"\",\"zerolinecolor\":\"white\",\"gridwidth\":2},\"yaxis\":{\"backgroundcolor\":\"#E5ECF6\",\"gridcolor\":\"white\",\"linecolor\":\"white\",\"showbackground\":true,\"ticks\":\"\",\"zerolinecolor\":\"white\",\"gridwidth\":2},\"zaxis\":{\"backgroundcolor\":\"#E5ECF6\",\"gridcolor\":\"white\",\"linecolor\":\"white\",\"showbackground\":true,\"ticks\":\"\",\"zerolinecolor\":\"white\",\"gridwidth\":2}},\"shapedefaults\":{\"line\":{\"color\":\"#2a3f5f\"}},\"annotationdefaults\":{\"arrowcolor\":\"#2a3f5f\",\"arrowhead\":0,\"arrowwidth\":1},\"geo\":{\"bgcolor\":\"white\",\"landcolor\":\"#E5ECF6\",\"subunitcolor\":\"white\",\"showland\":true,\"showlakes\":true,\"lakecolor\":\"white\"},\"title\":{\"x\":0.05},\"mapbox\":{\"style\":\"light\"}}},\"title\":{\"text\":\"Residual Plot\"},\"xaxis\":{\"title\":{\"text\":\"Predicted Values\"}},\"yaxis\":{\"title\":{\"text\":\"Residuals\"}},\"showlegend\":true},                        {\"responsive\": true}                    ).then(function(){\n",
              "                            \n",
              "var gd = document.getElementById('782ca524-4af3-4e4d-aa81-d63901cca637');\n",
              "var x = new MutationObserver(function (mutations, observer) {{\n",
              "        var display = window.getComputedStyle(gd).display;\n",
              "        if (!display || display === 'none') {{\n",
              "            console.log([gd, 'removed!']);\n",
              "            Plotly.purge(gd);\n",
              "            observer.disconnect();\n",
              "        }}\n",
              "}});\n",
              "\n",
              "// Listen for the removal of the full notebook cells\n",
              "var notebookContainer = gd.closest('#notebook-container');\n",
              "if (notebookContainer) {{\n",
              "    x.observe(notebookContainer, {childList: true});\n",
              "}}\n",
              "\n",
              "// Listen for the clearing of the current output cell\n",
              "var outputEl = gd.closest('.output');\n",
              "if (outputEl) {{\n",
              "    x.observe(outputEl, {childList: true});\n",
              "}}\n",
              "\n",
              "                        })                };                            </script>        </div>\n",
              "</body>\n",
              "</html>"
            ]
          },
          "metadata": {}
        }
      ]
    },
    {
      "cell_type": "code",
      "source": [
        "# 3. Distribution of Residuals (Plotly)\n",
        "fig_residual_dist = ff.create_distplot([residuals], ['Residuals'], bin_size=0.1, colors=['purple'])\n",
        "fig_residual_dist.update_layout(title='Distribution of Residuals')\n",
        "fig_residual_dist.show()"
      ],
      "metadata": {
        "colab": {
          "base_uri": "https://localhost:8080/",
          "height": 542
        },
        "id": "-m1OalqScDjd",
        "outputId": "c6433607-442b-469a-bbac-e49e776193fc"
      },
      "execution_count": 148,
      "outputs": [
        {
          "output_type": "display_data",
          "data": {
            "text/html": [
              "<html>\n",
              "<head><meta charset=\"utf-8\" /></head>\n",
              "<body>\n",
              "    <div>            <script src=\"https://cdnjs.cloudflare.com/ajax/libs/mathjax/2.7.5/MathJax.js?config=TeX-AMS-MML_SVG\"></script><script type=\"text/javascript\">if (window.MathJax && window.MathJax.Hub && window.MathJax.Hub.Config) {window.MathJax.Hub.Config({SVG: {font: \"STIX-Web\"}});}</script>                <script type=\"text/javascript\">window.PlotlyConfig = {MathJaxConfig: 'local'};</script>\n",
              "        <script charset=\"utf-8\" src=\"https://cdn.plot.ly/plotly-2.24.1.min.js\"></script>                <div id=\"fbdc765b-e013-4d29-996f-cfebbb5453d0\" class=\"plotly-graph-div\" style=\"height:525px; width:100%;\"></div>            <script type=\"text/javascript\">                                    window.PLOTLYENV=window.PLOTLYENV || {};                                    if (document.getElementById(\"fbdc765b-e013-4d29-996f-cfebbb5453d0\")) {                    Plotly.newPlot(                        \"fbdc765b-e013-4d29-996f-cfebbb5453d0\",                        [{\"autobinx\":false,\"histnorm\":\"probability density\",\"legendgroup\":\"Residuals\",\"marker\":{\"color\":\"purple\"},\"name\":\"Residuals\",\"opacity\":0.7,\"x\":[-0.20398212150123118,0.14429153456390598,-1.6667384033401786,-0.6960408210969602,1.840801560961879,-0.13804140319914548,-1.3061219706770217,-1.7455581399394413,-0.6824287839175756,-1.5098934446597916,-0.9482527047179752,0.7006359192516305,-0.0645267579547415,-3.0637585669929392,1.2250068224845148,-0.8114816841455652,0.4354094860199007,-0.49855146806658013,1.5015036480105035,0.15585044892218525,1.8127914741398428,1.7359145594144718,-1.462976302848515,0.2919027620248542,2.7399232645909075,1.1688962739878033,-0.7869424524111861,1.1850228823851725,-0.9260268191834213,-0.1034614969417671,-0.3697936936882087,-0.9307467120348631,-4.551557489097091,0.44201575778117874,0.16943459806884142,-0.35603877573843334],\"xaxis\":\"x\",\"xbins\":{\"end\":2.7399232645909075,\"size\":0.1,\"start\":-4.551557489097091},\"yaxis\":\"y\",\"type\":\"histogram\"},{\"legendgroup\":\"Residuals\",\"marker\":{\"color\":\"purple\"},\"mode\":\"lines\",\"name\":\"Residuals\",\"showlegend\":false,\"x\":[-4.551557489097091,-4.536974527589715,-4.522391566082339,-4.507808604574962,-4.4932256430675865,-4.478642681560211,-4.464059720052835,-4.449476758545459,-4.434893797038082,-4.420310835530707,-4.405727874023331,-4.391144912515955,-4.376561951008579,-4.361978989501202,-4.347396027993827,-4.332813066486451,-4.318230104979075,-4.303647143471698,-4.2890641819643225,-4.274481220456947,-4.259898258949571,-4.245315297442195,-4.230732335934818,-4.2161493744274425,-4.201566412920067,-4.186983451412691,-4.172400489905315,-4.157817528397938,-4.143234566890563,-4.128651605383187,-4.114068643875811,-4.099485682368435,-4.084902720861058,-4.070319759353683,-4.055736797846307,-4.041153836338931,-4.026570874831555,-4.0119879133241785,-3.9974049518168027,-3.982821990309427,-3.968239028802051,-3.953656067294675,-3.939073105787299,-3.9244901442799227,-3.909907182772547,-3.895324221265171,-3.880741259757795,-3.866158298250419,-3.8515753367430428,-3.836992375235667,-3.822409413728291,-3.807826452220915,-3.7932434907135386,-3.778660529206163,-3.764077567698787,-3.749494606191411,-3.734911644684035,-3.7203286831766587,-3.705745721669283,-3.691162760161907,-3.6765797986545308,-3.661996837147155,-3.6474138756397787,-3.632830914132403,-3.618247952625027,-3.603664991117651,-3.589082029610275,-3.5744990681028987,-3.559916106595523,-3.545333145088147,-3.530750183580771,-3.516167222073395,-3.501584260566019,-3.487001299058643,-3.472418337551267,-3.457835376043891,-3.4432524145365146,-3.428669453029139,-3.414086491521763,-3.399503530014387,-3.384920568507011,-3.370337606999635,-3.355754645492259,-3.341171683984883,-3.3265887224775073,-3.312005760970131,-3.2974227994627547,-3.282839837955379,-3.268256876448003,-3.253673914940627,-3.239090953433251,-3.224507991925875,-3.209925030418499,-3.195342068911123,-3.1807591074037473,-3.166176145896371,-3.151593184388995,-3.137010222881619,-3.122427261374243,-3.107844299866867,-3.093261338359491,-3.078678376852115,-3.064095415344739,-3.0495124538373632,-3.034929492329987,-3.0203465308226107,-3.005763569315235,-2.991180607807859,-2.9765976463004833,-2.9620146847931075,-2.947431723285731,-2.932848761778355,-2.918265800270979,-2.9036828387636033,-2.889099877256227,-2.874516915748851,-2.859933954241475,-2.845350992734099,-2.830768031226723,-2.816185069719347,-2.801602108211971,-2.787019146704595,-2.7724361851972192,-2.7578532236898434,-2.743270262182467,-2.728687300675091,-2.714104339167715,-2.6995213776603393,-2.6849384161529635,-2.670355454645587,-2.655772493138211,-2.641189531630835,-2.6266065701234593,-2.612023608616083,-2.597440647108707,-2.582857685601331,-2.568274724093955,-2.5536917625865794,-2.539108801079203,-2.5245258395718273,-2.509942878064451,-2.495359916557075,-2.4807769550496994,-2.4661939935423236,-2.4516110320349473,-2.4370280705275715,-2.4224451090201953,-2.4078621475128195,-2.393279186005443,-2.3786962244980674,-2.364113262990691,-2.3495303014833153,-2.334947339975939,-2.3203643784685632,-2.305781416961187,-2.291198455453811,-2.276615493946435,-2.262032532439059,-2.2474495709316833,-2.232866609424307,-2.2182836479169312,-2.2037006864095554,-2.1891177249021796,-2.1745347633948033,-2.1599518018874275,-2.1453688403800513,-2.1307858788726755,-2.116202917365299,-2.1016199558579234,-2.087036994350547,-2.0724540328431713,-2.0578710713357955,-2.0432881098284192,-2.0287051483210434,-2.014122186813667,-1.9995392253062914,-1.984956263798915,-1.9703733022915393,-1.955790340784163,-1.9412073792767872,-1.9266244177694114,-1.9120414562620356,-1.8974584947546593,-1.8828755332472835,-1.8682925717399073,-1.8537096102325314,-1.8391266487251556,-1.8245436872177794,-1.8099607257104036,-1.7953777642030273,-1.7807948026956515,-1.7662118411882752,-1.7516288796808994,-1.7370459181735232,-1.7224629566661473,-1.707879995158771,-1.6932970336513953,-1.678714072144019,-1.6641311106366432,-1.6495481491292674,-1.6349651876218916,-1.6203822261145158,-1.6057992646071395,-1.5912163030997637,-1.5766333415923874,-1.5620503800850116,-1.5474674185776354,-1.5328844570702596,-1.5183014955628833,-1.5037185340555075,-1.4891355725481312,-1.4745526110407554,-1.4599696495333792,-1.4453866880260033,-1.4308037265186275,-1.4162207650112513,-1.4016378035038755,-1.3870548419964992,-1.3724718804891238,-1.3578889189817476,-1.3433059574743718,-1.3287229959669955,-1.3141400344596197,-1.2995570729522434,-1.2849741114448676,-1.2703911499374914,-1.2558081884301155,-1.2412252269227393,-1.2266422654153635,-1.2120593039079877,-1.1974763424006114,-1.1828933808932356,-1.1683104193858593,-1.1537274578784835,-1.1391444963711073,-1.1245615348637314,-1.1099785733563552,-1.0953956118489798,-1.0808126503416036,-1.0662296888342278,-1.0516467273268515,-1.0370637658194757,-1.0224808043120999,-1.0078978428047236,-0.9933148812973478,-0.9787319197899715,-0.9641489582825957,-0.9495659967752195,-0.9349830352678437,-0.9204000737604674,-0.9058171122530916,-0.8912341507457153,-0.8766511892383395,-0.8620682277309633,-0.8474852662235874,-0.8329023047162112,-0.8183193432088358,-0.80373638170146,-0.7891534201940837,-0.7745704586867079,-0.7599874971793317,-0.7454045356719559,-0.7308215741645796,-0.7162386126572038,-0.7016556511498275,-0.6870726896424517,-0.6724897281350755,-0.6579067666276996,-0.6433238051203234,-0.6287408436129476,-0.6141578821055713,-0.5995749205981955,-0.5849919590908197,-0.5704089975834434,-0.5558260360760676,-0.5412430745686914,-0.5266601130613155,-0.5120771515539397,-0.4974941900465639,-0.4829112285391872,-0.4683282670318114,-0.4537453055244356,-0.4391623440170589,-0.42457938250968397,-0.40999642100230815,-0.39541345949493145,-0.3808304979875565,-0.3662475364801798,-0.351664574972804,-0.3370816134654273,-0.3224986519580524,-0.3079156904506757,-0.29333272894329987,-0.27874976743592317,-0.26416680592854824,-0.24958384442117154,-0.23500088291379573,-0.22041792140641903,-0.2058349598990441,-0.1912519983916674,-0.17666903688429159,-0.16208607537691577,-0.14750311386953996,-0.13292015236216415,-0.11833719085478744,-0.10375422934741252,-0.08917126784003582,-0.07458830633266,-0.0600053448252833,-0.04542238331790838,-0.030839421810531675,-0.016256460303155862,-0.0016734987957791603,0.012909462711595765,0.027492424218972467,0.04207538572634828,0.05665834723372409,0.0712413087410999,0.08582427024847661,0.10040723175585242,0.11499019326322824,0.12957315477060405,0.14415611627797986,0.15873907778535656,0.1733220392927315,0.1879050008001082,0.202487962307484,0.2170709238148607,0.23165388532223563,0.24623684682961233,0.26081980833698815,0.27540276984436396,0.2899857313517398,0.3045686928591165,0.3191516543664923,0.3337346158738681,0.3483175773812439,0.3629005388886206,0.37748350039599643,0.39206646190337224,0.40664942341074806,0.42123238491812387,0.4358153464254997,0.4503983079328755,0.4649812694402522,0.479564230947628,0.4941471924550038,0.5087301539623796,0.5233131154697563,0.5378960769771322,0.552479038484508,0.5670619999918838,0.5816449614992605,0.5962279230066363,0.6108108845140121,0.6253938460213879,0.6399768075287646,0.6545597690361395,0.6691427305435163,0.6837256920508921,0.6983086535582679,0.7128916150656437,0.7274745765730195,0.7420575380803962,0.756640499587772,0.7712234610951478,0.7858064226025236,0.8003893841099003,0.8149723456172762,0.829555307124652,0.8441382686320278,0.8587212301394045,0.8733041916467794,0.8878871531541561,0.9024701146615319,0.9170530761689086,0.9316360376762836,0.9462189991836603,0.9608019606910361,0.9753849221984119,0.9899678837057877,1.0045508452131635,1.0191338067205402,1.033716768227916,1.0482997297352918,1.0628826912426677,1.0774656527500444,1.0920486142574193,1.106631575764796,1.1212145372721718,1.1357974987795485,1.1503804602869234,1.1649634217943001,1.179546383301676,1.1941293448090526,1.2087123063164276,1.2232952678238043,1.23787822933118,1.252461190838556,1.2670441523459317,1.2816271138533075,1.2962100753606842,1.3107930368680591,1.3253759983754358,1.3399589598828117,1.3545419213901884,1.3691248828975633,1.38370784440494,1.3982908059123158,1.4128737674196925,1.4274567289270674,1.4420396904344441,1.45662265194182,1.4712056134491958,1.4857885749565716,1.5003715364639483,1.514954497971324,1.529537459478699,1.5441204209860757,1.5587033824934515,1.5732863440008282,1.5878693055082032,1.6024522670155799,1.6170352285229557,1.6316181900303324,1.6462011515377073,1.660784113045084,1.6753670745524598,1.6899500360598356,1.7045329975672114,1.7191159590745881,1.733698920581964,1.7482818820893398,1.7628648435967156,1.7774478051040923,1.792030766611468,1.806613728118843,1.8211966896262197,1.8357796511335955,1.8503626126409722,1.8649455741483472,1.8795285356557239,1.8941114971630997,1.9086944586704755,1.9232774201778513,1.937860381685228,1.9524433431926038,1.9670263046999796,1.9816092662073554,1.9961922277147321,2.010775189222108,2.0253581507294838,2.0399411122368596,2.0545240737442363,2.069107035251612,2.083689996758987,2.0982729582663637,2.1128559197737395,2.1274388812811154,2.142021842788491,2.156604804295868,2.1711877658032437,2.1857707273106195,2.2003536888179953,2.214936650325372,2.229519611832748,2.2441025733401236,2.2586855348474995,2.273268496354876,2.287851457862252,2.302434419369628,2.3170173808770036,2.3316003423843803,2.3461833038917552,2.360766265399131,2.3753492269065077,2.3899321884138836,2.4045151499212594,2.419098111428635,2.433681072936012,2.4482640344433877,2.4628469959507635,2.4774299574581393,2.492012918965516,2.506595880472891,2.5211788419802676,2.5357618034876435,2.55034476499502,2.564927726502395,2.579510688009772,2.5940936495171476,2.6086766110245243,2.6232595725318992,2.637842534039275,2.6524254955466517,2.6670084570540276,2.6815914185614034,2.696174380068779,2.710757341576156,2.725340303083531],\"xaxis\":\"x\",\"y\":[0.017574789775908636,0.017645783520953674,0.01771241815651576,0.01777476259177799,0.017832894069620072,0.017886897996895978,0.017936867752893555,0.01798290447652335,0.018025116832867026,0.018063620759796974,0.01809853919545854,0.018130001787483918,0.018158144584882206,0.018183109713622407,0.018205045036996194,0.018224103801913093,0.018240444272343687,0.018254229351184873,0.018265626191876112,0.018274805801145242,0.018281942634308188,0.018287214184587213,0.01829080056794762,0.018292884104982914,0.018293648901403052,0.01829328042869883,0.018291965106569063,0.01828988988870402,0.018287241853519737,0.018284207801433264,0.01828097386025742,0.0182777251002772,0.01827464516054603,0.018271915887911397,0.018269716990243805,0.018268225705301643,0.018267616486617646,0.01826806070773974,0.018269726386100395,0.018272777927725116,0.0182773758939214,0.018283676791015537,0.01829183288412555,0.018301992035875698,0.01831429757086976,0.018328888166649262,0.018345897771767258,0.01836545555151003,0.018387685861697443,0.018412708250888487,0.0184406374912126,0.018471583637938615,0.01850565211778381,0.018542943845854833,0.018583555371000388,0.018627579049244454,0.01867510324485678,0.018726212558506487,0.018780988081834937,0.01883950767767492,0.01890184628503692,0.01896807624787831,0.019038267666569793,0.0191124887708743,0.019190806313158282,0.01927328598046381,0.0193599928239824,0.019450991704388885,0.01954634775141544,0.019646126835973488,0.0197503960530639,0.019859224213654627,0.019972682343649732,0.020090844188025057,0.02021378671816324,0.02034159064038573,0.02047434090365081,0.020612127204365307,0.020755044486243865,0.020903193433142928,0.02105668095279729,0.02121562064939604,0.021380133282949843,0.021550347213425945,0.0217263988276575,0.02190843294707311,0.02209660321433764,0.022291072457049154,0.022492013026696872,0.022699607111152126,0.022914047019038746,0.02313553543440946,0.023364285640241834,0.023600521709360372,0.02384447866148946,0.02409640258524622,0.024356550723990865,0.0246251915245661,0.024902604648074735,0.025189080941966552,0.025484922372830374,0.025790441919415954,0.026105963425540203,0.026431821412665726,0.02676836085207356,0.027115936896687464,0.027474914572743273,0.02784566843163272,0.028228582162386752,0.028624048165398496,0.029032467088118914,0.02945424732358965,0.029889804472806848,0.030339560772035444,0.030803944486315588,0.031283389270522745,0.03177833349945627,0.03228921956854138,0.03281649316683348,0.0333606025241128,0.0339219976339499,0.034501129454708665,0.035098449090533355,0.03571440695443845,0.03634945191568527,0.037004030433686934,0.03767858568073314,0.03837355665586726,0.03908937729228254,0.03982647556062876,0.04058527257063669,0.041366181673478324,0.04216960756727645,0.04299594540817209,0.04384557992933768,0.04471888457030056,0.04561622061890416,0.04653793636819466,0.04748436629046779,0.04845583023065395,0.04945263262115277,0.05047506172015515,0.05152338887541106,0.052597867815314156,0.05369873396908017,0.054826203817698746,0.05598047427723254,0.05716172211592698,0.05837010340648237,0.05960575301471825,0.06086878412574134,0.06215928780860026,0.0634773326202845,0.06482296424979465,0.06619620520287924,0.0675970545279021,0.06902548758317072,0.07048145584592386,0.07196488676304465,0.07347568364343475,0.07501372559185622,0.07657886748392094,0.07817093998178358,0.07978974958997272,0.08143507875067918,0.08310668597770686,0.08480430602818195,0.0865276501110173,0.08827640613102453,0.09005023896748209,0.0918487907858737,0.09367168138143958,0.09551850855310344,0.09738884850627562,0.09928225628297457,0.1011982662176534,0.103136392417077,0.1050961292625571,0.1070769519328223,0.10907831694577891,0.111099662717404,0.11314041013600346,0.11519996315006925,0.11727770936797643,0.11937302066777626,0.12148525381535956,0.12361375108929713,0.12575784091069253,0.12791683847642762,0.130090046394225,0.1322767553180011,0.13447624458204568,0.13668778283261776,0.13891062865562043,0.14114403119908095,0.14338723078924112,0.1456394595391338,0.14789994194860595,0.15016789549482532,0.1524425312123949,0.15472305426228164,0.15700866448885187,0.15929855696439413,0.1615919225205936,0.16388794826651135,0.16618581809270472,0.16848471316121183,0.17078381238120524,0.17308229287020085,0.17537933040078788,0.17767409983292523,0.1799657755319164,0.18225353177225728,0.1845365431276083,0.18681398484721604,0.18908503321916326,0.19134886592089015,0.19360466235747736,0.19585160398823329,0.19808887464217506,0.2003156608230278,0.2025311520044105,0.2047345409159025,0.20692502382071862,0.20910180078573726,0.21126407594465474,0.21341105775504343,0.21554195925011255,0.21765599828596766,0.21975239778517758,0.22183038597744834,0.2238891966382031,0.2259280693258594,0.22794624961858062,0.22994298935126709,0.23191754685353005,0.23386918718937588,0.2357971823992986,0.23770081174545754,0.23957936196058371,0.24143212750123083,0.24325841080595034,0.24505752255893845,0.24682878195966199,0.24857151699893226,0.25028506474185946,0.25196877161807124,0.25362199371954386,0.25524409710634194,0.25683445812052613,0.25839246370843344,0.2599175117514941,0.26140901140569656,0.2628663834497675,0.2642890606420783,0.26567648808624816,0.2670281236053544,0.26834343812461553,0.2696219160623608,0.27086305572904334,0.27206636973401044,0.27323138539968234,0.2743576451827472,0.2754447071019204,0.27649214517176823,0.27749954984204006,0.2784665284419017,0.27939270562840846,0.280277723838507,0.28112124374379655,0.2819229447072342,0.28268252524091403,0.2833997034639988,0.28407421755983375,0.28470582623121915,0.28529430915277615,0.2858394674192853,0.2863411239888356,0.28679912411957653,0.2872133357988223,0.2875836501632152,0.28790998190861855,0.288192269688372,0.2884304764985074,0.28862459004849406,0.288774623116053,0.2888806138845573,0.28894262626151285,0.2889607501765968,0.2889351018577242,0.28886582408359357,0.28875308641117386,0.2885970853765817,0.288398044667818,0.28815621526783425,0.2878718755664266,0.2875453314394712,0.2871769162940496,0.2867669910780492,0.28631594425286133,0.2858241917278571,0.28529217675536683,0.28472036978496035,0.28410926827588945,0.2834593964666311,0.28277130510055143,0.2820455711068023,0.28128279723565575,0.280483611647584,0.2796486674555018,0.27877864221970217,0.2778742373951366,0.27693617773081713,0.27596521062124685,0.2749621054099237,0.2739276526451029,0.2728626632881416,0.2717679678749088,0.27064441563088126,0.269492873540712,0.26831422537320293,0.2671093706627787,0.2658792236487116,0.26462471217350864,0.26334677654202626,0.2620463683430379,0.2607244492351352,0.2593819896989912,0.25801996775817027,0.2566393676708088,0.25524117859463813,0.25382639322795086,0.2523960064292475,0.2509510138184219,0.24949241036245987,0.24802118894873634,0.24653833894909485,0.24504484477798807,0.2435416844480371,0.24202982812643933,0.2405102366957206,0.23898386032237356,0.2374516370369653,0.23591449132932585,0.23437333276244343,0.23282905460869724,0.23128253251204728,0.22973462317978235,0.22818616310738848,0.22663796734005828,0.22509082827429402,0.22354551450299215,0.22200276970730548,0.2204633115984848,0.21892783091278564,0.21739699046241276,0.21587142424533037,0.21435173661662726,0.21283850152396658,0.21133226180948528,0.20983352858032875,0.20834278064982273,0.20686046405108852,0.20538699162470503,0.2039227426818121,0.20246806274383178,0.20102326335976264,0.19958862200177563,0.19816438203960757,0.19675075279401294,0.19534790966930127,0.19395599436474292,0.19257511516439293,0.19120534730463742,0.18984673341853525,0.18849928405578636,0.18716297827692854,0.1858377643201329,0.18452356033874756,0.1832202552075138,0.1819277093951745,0.18064575590098006,0.17937420125240913,0.17811282656122457,0.1768613886348104,0.17561962113956522,0.17438723581296905,0.17316392372079414,0.17194935655579133,0.17074318797406968,0.1695450549652655,0.16835457925251032,0.16717136871811866,0.16599501885084927,0.16482511421053864,0.16366122990586476,0.16250293308097244,0.1613497844066821,0.16020133957200336,0.15905715077169638,0.15791676818565273,0.1567797414459157,0.15564562108721966,0.15451395997700082,0.15338431472092395,0.15225624704006263,0.1511293251159926,0.1500031249001764,0.14887723138415956,0.1477512398272439,0.14662475693846536,0.1454974020098687,0.1443688079982571,0.14323862255277103,0.14210650898585522,0.14097214718536874,0.13983523446580254,0.13869548635678214,0.1375526373272521,0.13640644144396072,0.13525667296308538,0.13410312685407189,0.13294561925498288,0.13178398785888631,0.130618092231034,0.1294478140568185,0.12827305732071126,0.12709374841661497,0.12590983619027493,0.12472129191461372,0.12352810919905792,0.12233030383413077,0.12112791357277815,0.11992099785008695,0.11870963744323237,0.11749393407366496,0.11627400995370843,0.11505000727989542,0.11382208767550965,0.1125904315849337,0.11135523762252685,0.11011672187886275,0.10887511718726087,0.10763067235362425,0.10638365135267958,0.10513433249377033,0.10388300755940841,0.10262998091982414,0.10137556862678339,0.10012009748994893,0.09886390413906933,0.09760733407526138,0.09635074071463574,0.09509448442747538,0.09383893157613375,0.09258445355476119,0.09133142583390225,0.09008022701292852,0.08883123788318271,0.08758484050461707,0.0863414172986009,0.0851013501594603,0.08386501958719217,0.08263280384366715,0.08140507813450241,0.08018221381864468,0.07896457764755968,0.07775253103577609,0.07654642936437754,0.07534662131888273,0.07415344826279242,0.07296724364792756,0.07178833246251602,0.07061703071783071,0.06945364497401542,0.06829847190558203,0.0671517979068986,0.06601389873783631,0.06488503920959103,0.06376547291054417,0.06265544197188455,0.061555176872571234,0.06046489628308416,0.059384806947277734,0.05831510360153046,0.05725596893026433,0.056207573556801456,0.055170076068415404,0.0541436230743458,0.05312834929544981,0.052124377684089056,0.05113181957277221,0.05015077485001417,0.049181332161811205,0.04822356913708813,0.04727755263542918,0.046343339015374685,0.0454209744215421,0.04451049508881319,0.04361192766182231],\"yaxis\":\"y\",\"type\":\"scatter\"},{\"legendgroup\":\"Residuals\",\"marker\":{\"color\":\"purple\",\"symbol\":\"line-ns-open\"},\"mode\":\"markers\",\"name\":\"Residuals\",\"showlegend\":false,\"x\":[-0.20398212150123118,0.14429153456390598,-1.6667384033401786,-0.6960408210969602,1.840801560961879,-0.13804140319914548,-1.3061219706770217,-1.7455581399394413,-0.6824287839175756,-1.5098934446597916,-0.9482527047179752,0.7006359192516305,-0.0645267579547415,-3.0637585669929392,1.2250068224845148,-0.8114816841455652,0.4354094860199007,-0.49855146806658013,1.5015036480105035,0.15585044892218525,1.8127914741398428,1.7359145594144718,-1.462976302848515,0.2919027620248542,2.7399232645909075,1.1688962739878033,-0.7869424524111861,1.1850228823851725,-0.9260268191834213,-0.1034614969417671,-0.3697936936882087,-0.9307467120348631,-4.551557489097091,0.44201575778117874,0.16943459806884142,-0.35603877573843334],\"xaxis\":\"x\",\"y\":[\"Residuals\",\"Residuals\",\"Residuals\",\"Residuals\",\"Residuals\",\"Residuals\",\"Residuals\",\"Residuals\",\"Residuals\",\"Residuals\",\"Residuals\",\"Residuals\",\"Residuals\",\"Residuals\",\"Residuals\",\"Residuals\",\"Residuals\",\"Residuals\",\"Residuals\",\"Residuals\",\"Residuals\",\"Residuals\",\"Residuals\",\"Residuals\",\"Residuals\",\"Residuals\",\"Residuals\",\"Residuals\",\"Residuals\",\"Residuals\",\"Residuals\",\"Residuals\",\"Residuals\",\"Residuals\",\"Residuals\",\"Residuals\"],\"yaxis\":\"y2\",\"type\":\"scatter\"}],                        {\"barmode\":\"overlay\",\"hovermode\":\"closest\",\"legend\":{\"traceorder\":\"reversed\"},\"xaxis\":{\"anchor\":\"y2\",\"domain\":[0.0,1.0],\"zeroline\":false},\"yaxis\":{\"anchor\":\"free\",\"domain\":[0.35,1],\"position\":0.0},\"yaxis2\":{\"anchor\":\"x\",\"domain\":[0,0.25],\"dtick\":1,\"showticklabels\":false},\"template\":{\"data\":{\"histogram2dcontour\":[{\"type\":\"histogram2dcontour\",\"colorbar\":{\"outlinewidth\":0,\"ticks\":\"\"},\"colorscale\":[[0.0,\"#0d0887\"],[0.1111111111111111,\"#46039f\"],[0.2222222222222222,\"#7201a8\"],[0.3333333333333333,\"#9c179e\"],[0.4444444444444444,\"#bd3786\"],[0.5555555555555556,\"#d8576b\"],[0.6666666666666666,\"#ed7953\"],[0.7777777777777778,\"#fb9f3a\"],[0.8888888888888888,\"#fdca26\"],[1.0,\"#f0f921\"]]}],\"choropleth\":[{\"type\":\"choropleth\",\"colorbar\":{\"outlinewidth\":0,\"ticks\":\"\"}}],\"histogram2d\":[{\"type\":\"histogram2d\",\"colorbar\":{\"outlinewidth\":0,\"ticks\":\"\"},\"colorscale\":[[0.0,\"#0d0887\"],[0.1111111111111111,\"#46039f\"],[0.2222222222222222,\"#7201a8\"],[0.3333333333333333,\"#9c179e\"],[0.4444444444444444,\"#bd3786\"],[0.5555555555555556,\"#d8576b\"],[0.6666666666666666,\"#ed7953\"],[0.7777777777777778,\"#fb9f3a\"],[0.8888888888888888,\"#fdca26\"],[1.0,\"#f0f921\"]]}],\"heatmap\":[{\"type\":\"heatmap\",\"colorbar\":{\"outlinewidth\":0,\"ticks\":\"\"},\"colorscale\":[[0.0,\"#0d0887\"],[0.1111111111111111,\"#46039f\"],[0.2222222222222222,\"#7201a8\"],[0.3333333333333333,\"#9c179e\"],[0.4444444444444444,\"#bd3786\"],[0.5555555555555556,\"#d8576b\"],[0.6666666666666666,\"#ed7953\"],[0.7777777777777778,\"#fb9f3a\"],[0.8888888888888888,\"#fdca26\"],[1.0,\"#f0f921\"]]}],\"heatmapgl\":[{\"type\":\"heatmapgl\",\"colorbar\":{\"outlinewidth\":0,\"ticks\":\"\"},\"colorscale\":[[0.0,\"#0d0887\"],[0.1111111111111111,\"#46039f\"],[0.2222222222222222,\"#7201a8\"],[0.3333333333333333,\"#9c179e\"],[0.4444444444444444,\"#bd3786\"],[0.5555555555555556,\"#d8576b\"],[0.6666666666666666,\"#ed7953\"],[0.7777777777777778,\"#fb9f3a\"],[0.8888888888888888,\"#fdca26\"],[1.0,\"#f0f921\"]]}],\"contourcarpet\":[{\"type\":\"contourcarpet\",\"colorbar\":{\"outlinewidth\":0,\"ticks\":\"\"}}],\"contour\":[{\"type\":\"contour\",\"colorbar\":{\"outlinewidth\":0,\"ticks\":\"\"},\"colorscale\":[[0.0,\"#0d0887\"],[0.1111111111111111,\"#46039f\"],[0.2222222222222222,\"#7201a8\"],[0.3333333333333333,\"#9c179e\"],[0.4444444444444444,\"#bd3786\"],[0.5555555555555556,\"#d8576b\"],[0.6666666666666666,\"#ed7953\"],[0.7777777777777778,\"#fb9f3a\"],[0.8888888888888888,\"#fdca26\"],[1.0,\"#f0f921\"]]}],\"surface\":[{\"type\":\"surface\",\"colorbar\":{\"outlinewidth\":0,\"ticks\":\"\"},\"colorscale\":[[0.0,\"#0d0887\"],[0.1111111111111111,\"#46039f\"],[0.2222222222222222,\"#7201a8\"],[0.3333333333333333,\"#9c179e\"],[0.4444444444444444,\"#bd3786\"],[0.5555555555555556,\"#d8576b\"],[0.6666666666666666,\"#ed7953\"],[0.7777777777777778,\"#fb9f3a\"],[0.8888888888888888,\"#fdca26\"],[1.0,\"#f0f921\"]]}],\"mesh3d\":[{\"type\":\"mesh3d\",\"colorbar\":{\"outlinewidth\":0,\"ticks\":\"\"}}],\"scatter\":[{\"fillpattern\":{\"fillmode\":\"overlay\",\"size\":10,\"solidity\":0.2},\"type\":\"scatter\"}],\"parcoords\":[{\"type\":\"parcoords\",\"line\":{\"colorbar\":{\"outlinewidth\":0,\"ticks\":\"\"}}}],\"scatterpolargl\":[{\"type\":\"scatterpolargl\",\"marker\":{\"colorbar\":{\"outlinewidth\":0,\"ticks\":\"\"}}}],\"bar\":[{\"error_x\":{\"color\":\"#2a3f5f\"},\"error_y\":{\"color\":\"#2a3f5f\"},\"marker\":{\"line\":{\"color\":\"#E5ECF6\",\"width\":0.5},\"pattern\":{\"fillmode\":\"overlay\",\"size\":10,\"solidity\":0.2}},\"type\":\"bar\"}],\"scattergeo\":[{\"type\":\"scattergeo\",\"marker\":{\"colorbar\":{\"outlinewidth\":0,\"ticks\":\"\"}}}],\"scatterpolar\":[{\"type\":\"scatterpolar\",\"marker\":{\"colorbar\":{\"outlinewidth\":0,\"ticks\":\"\"}}}],\"histogram\":[{\"marker\":{\"pattern\":{\"fillmode\":\"overlay\",\"size\":10,\"solidity\":0.2}},\"type\":\"histogram\"}],\"scattergl\":[{\"type\":\"scattergl\",\"marker\":{\"colorbar\":{\"outlinewidth\":0,\"ticks\":\"\"}}}],\"scatter3d\":[{\"type\":\"scatter3d\",\"line\":{\"colorbar\":{\"outlinewidth\":0,\"ticks\":\"\"}},\"marker\":{\"colorbar\":{\"outlinewidth\":0,\"ticks\":\"\"}}}],\"scattermapbox\":[{\"type\":\"scattermapbox\",\"marker\":{\"colorbar\":{\"outlinewidth\":0,\"ticks\":\"\"}}}],\"scatterternary\":[{\"type\":\"scatterternary\",\"marker\":{\"colorbar\":{\"outlinewidth\":0,\"ticks\":\"\"}}}],\"scattercarpet\":[{\"type\":\"scattercarpet\",\"marker\":{\"colorbar\":{\"outlinewidth\":0,\"ticks\":\"\"}}}],\"carpet\":[{\"aaxis\":{\"endlinecolor\":\"#2a3f5f\",\"gridcolor\":\"white\",\"linecolor\":\"white\",\"minorgridcolor\":\"white\",\"startlinecolor\":\"#2a3f5f\"},\"baxis\":{\"endlinecolor\":\"#2a3f5f\",\"gridcolor\":\"white\",\"linecolor\":\"white\",\"minorgridcolor\":\"white\",\"startlinecolor\":\"#2a3f5f\"},\"type\":\"carpet\"}],\"table\":[{\"cells\":{\"fill\":{\"color\":\"#EBF0F8\"},\"line\":{\"color\":\"white\"}},\"header\":{\"fill\":{\"color\":\"#C8D4E3\"},\"line\":{\"color\":\"white\"}},\"type\":\"table\"}],\"barpolar\":[{\"marker\":{\"line\":{\"color\":\"#E5ECF6\",\"width\":0.5},\"pattern\":{\"fillmode\":\"overlay\",\"size\":10,\"solidity\":0.2}},\"type\":\"barpolar\"}],\"pie\":[{\"automargin\":true,\"type\":\"pie\"}]},\"layout\":{\"autotypenumbers\":\"strict\",\"colorway\":[\"#636efa\",\"#EF553B\",\"#00cc96\",\"#ab63fa\",\"#FFA15A\",\"#19d3f3\",\"#FF6692\",\"#B6E880\",\"#FF97FF\",\"#FECB52\"],\"font\":{\"color\":\"#2a3f5f\"},\"hovermode\":\"closest\",\"hoverlabel\":{\"align\":\"left\"},\"paper_bgcolor\":\"white\",\"plot_bgcolor\":\"#E5ECF6\",\"polar\":{\"bgcolor\":\"#E5ECF6\",\"angularaxis\":{\"gridcolor\":\"white\",\"linecolor\":\"white\",\"ticks\":\"\"},\"radialaxis\":{\"gridcolor\":\"white\",\"linecolor\":\"white\",\"ticks\":\"\"}},\"ternary\":{\"bgcolor\":\"#E5ECF6\",\"aaxis\":{\"gridcolor\":\"white\",\"linecolor\":\"white\",\"ticks\":\"\"},\"baxis\":{\"gridcolor\":\"white\",\"linecolor\":\"white\",\"ticks\":\"\"},\"caxis\":{\"gridcolor\":\"white\",\"linecolor\":\"white\",\"ticks\":\"\"}},\"coloraxis\":{\"colorbar\":{\"outlinewidth\":0,\"ticks\":\"\"}},\"colorscale\":{\"sequential\":[[0.0,\"#0d0887\"],[0.1111111111111111,\"#46039f\"],[0.2222222222222222,\"#7201a8\"],[0.3333333333333333,\"#9c179e\"],[0.4444444444444444,\"#bd3786\"],[0.5555555555555556,\"#d8576b\"],[0.6666666666666666,\"#ed7953\"],[0.7777777777777778,\"#fb9f3a\"],[0.8888888888888888,\"#fdca26\"],[1.0,\"#f0f921\"]],\"sequentialminus\":[[0.0,\"#0d0887\"],[0.1111111111111111,\"#46039f\"],[0.2222222222222222,\"#7201a8\"],[0.3333333333333333,\"#9c179e\"],[0.4444444444444444,\"#bd3786\"],[0.5555555555555556,\"#d8576b\"],[0.6666666666666666,\"#ed7953\"],[0.7777777777777778,\"#fb9f3a\"],[0.8888888888888888,\"#fdca26\"],[1.0,\"#f0f921\"]],\"diverging\":[[0,\"#8e0152\"],[0.1,\"#c51b7d\"],[0.2,\"#de77ae\"],[0.3,\"#f1b6da\"],[0.4,\"#fde0ef\"],[0.5,\"#f7f7f7\"],[0.6,\"#e6f5d0\"],[0.7,\"#b8e186\"],[0.8,\"#7fbc41\"],[0.9,\"#4d9221\"],[1,\"#276419\"]]},\"xaxis\":{\"gridcolor\":\"white\",\"linecolor\":\"white\",\"ticks\":\"\",\"title\":{\"standoff\":15},\"zerolinecolor\":\"white\",\"automargin\":true,\"zerolinewidth\":2},\"yaxis\":{\"gridcolor\":\"white\",\"linecolor\":\"white\",\"ticks\":\"\",\"title\":{\"standoff\":15},\"zerolinecolor\":\"white\",\"automargin\":true,\"zerolinewidth\":2},\"scene\":{\"xaxis\":{\"backgroundcolor\":\"#E5ECF6\",\"gridcolor\":\"white\",\"linecolor\":\"white\",\"showbackground\":true,\"ticks\":\"\",\"zerolinecolor\":\"white\",\"gridwidth\":2},\"yaxis\":{\"backgroundcolor\":\"#E5ECF6\",\"gridcolor\":\"white\",\"linecolor\":\"white\",\"showbackground\":true,\"ticks\":\"\",\"zerolinecolor\":\"white\",\"gridwidth\":2},\"zaxis\":{\"backgroundcolor\":\"#E5ECF6\",\"gridcolor\":\"white\",\"linecolor\":\"white\",\"showbackground\":true,\"ticks\":\"\",\"zerolinecolor\":\"white\",\"gridwidth\":2}},\"shapedefaults\":{\"line\":{\"color\":\"#2a3f5f\"}},\"annotationdefaults\":{\"arrowcolor\":\"#2a3f5f\",\"arrowhead\":0,\"arrowwidth\":1},\"geo\":{\"bgcolor\":\"white\",\"landcolor\":\"#E5ECF6\",\"subunitcolor\":\"white\",\"showland\":true,\"showlakes\":true,\"lakecolor\":\"white\"},\"title\":{\"x\":0.05},\"mapbox\":{\"style\":\"light\"}}},\"title\":{\"text\":\"Distribution of Residuals\"}},                        {\"responsive\": true}                    ).then(function(){\n",
              "                            \n",
              "var gd = document.getElementById('fbdc765b-e013-4d29-996f-cfebbb5453d0');\n",
              "var x = new MutationObserver(function (mutations, observer) {{\n",
              "        var display = window.getComputedStyle(gd).display;\n",
              "        if (!display || display === 'none') {{\n",
              "            console.log([gd, 'removed!']);\n",
              "            Plotly.purge(gd);\n",
              "            observer.disconnect();\n",
              "        }}\n",
              "}});\n",
              "\n",
              "// Listen for the removal of the full notebook cells\n",
              "var notebookContainer = gd.closest('#notebook-container');\n",
              "if (notebookContainer) {{\n",
              "    x.observe(notebookContainer, {childList: true});\n",
              "}}\n",
              "\n",
              "// Listen for the clearing of the current output cell\n",
              "var outputEl = gd.closest('.output');\n",
              "if (outputEl) {{\n",
              "    x.observe(outputEl, {childList: true});\n",
              "}}\n",
              "\n",
              "                        })                };                            </script>        </div>\n",
              "</body>\n",
              "</html>"
            ]
          },
          "metadata": {}
        }
      ]
    },
    {
      "cell_type": "code",
      "source": [
        "# 4. Feature Importance (Approximation using Permutation Importance)\n",
        "perm_importance = permutation_importance(knn_model, X_test, y_test, n_repeats=10, random_state=42)\n",
        "feature_importance_values = perm_importance.importances_mean\n",
        "\n",
        "fig_feature_importance = go.Figure()\n",
        "\n",
        "fig_feature_importance.add_trace(go.Bar(\n",
        "    x=X.columns,\n",
        "    y=feature_importance_values,\n",
        "    marker=dict(color='green')\n",
        "))\n",
        "\n",
        "fig_feature_importance.update_layout(\n",
        "    title='Feature Importance (Approximation)',\n",
        "    xaxis_title='Features',\n",
        "    yaxis_title='Importance'\n",
        ")\n",
        "\n",
        "fig_feature_importance.show()"
      ],
      "metadata": {
        "colab": {
          "base_uri": "https://localhost:8080/",
          "height": 542
        },
        "id": "0X1LcKZZcLIU",
        "outputId": "f0539fdd-117f-4a2a-d172-e99b41de1b68"
      },
      "execution_count": 149,
      "outputs": [
        {
          "output_type": "display_data",
          "data": {
            "text/html": [
              "<html>\n",
              "<head><meta charset=\"utf-8\" /></head>\n",
              "<body>\n",
              "    <div>            <script src=\"https://cdnjs.cloudflare.com/ajax/libs/mathjax/2.7.5/MathJax.js?config=TeX-AMS-MML_SVG\"></script><script type=\"text/javascript\">if (window.MathJax && window.MathJax.Hub && window.MathJax.Hub.Config) {window.MathJax.Hub.Config({SVG: {font: \"STIX-Web\"}});}</script>                <script type=\"text/javascript\">window.PlotlyConfig = {MathJaxConfig: 'local'};</script>\n",
              "        <script charset=\"utf-8\" src=\"https://cdn.plot.ly/plotly-2.24.1.min.js\"></script>                <div id=\"e711d5ec-4612-4ce0-82ee-30d3a103c8e4\" class=\"plotly-graph-div\" style=\"height:525px; width:100%;\"></div>            <script type=\"text/javascript\">                                    window.PLOTLYENV=window.PLOTLYENV || {};                                    if (document.getElementById(\"e711d5ec-4612-4ce0-82ee-30d3a103c8e4\")) {                    Plotly.newPlot(                        \"e711d5ec-4612-4ce0-82ee-30d3a103c8e4\",                        [{\"marker\":{\"color\":\"green\"},\"x\":[\"alcohol\",\"malic_acid\",\"ash\",\"alcalinity_of_ash\",\"magnesium\",\"total_phenols\",\"flavanoids\",\"nonflavanoid_phenols\",\"proanthocyanins\",\"hue\",\"od280\\u002fod315_of_diluted_wines\",\"proline\"],\"y\":[0.3548970996981728,0.44253877349553317,-0.00176793303067061,0.03561582163856347,0.033507355475945654,0.018914245056056777,0.005557760621161756,0.012372716588457821,-0.005316692512078169,-0.000297042183050511,0.001472853210462921,-0.0036460855067462104,-0.004204110260320604],\"type\":\"bar\"}],                        {\"template\":{\"data\":{\"histogram2dcontour\":[{\"type\":\"histogram2dcontour\",\"colorbar\":{\"outlinewidth\":0,\"ticks\":\"\"},\"colorscale\":[[0.0,\"#0d0887\"],[0.1111111111111111,\"#46039f\"],[0.2222222222222222,\"#7201a8\"],[0.3333333333333333,\"#9c179e\"],[0.4444444444444444,\"#bd3786\"],[0.5555555555555556,\"#d8576b\"],[0.6666666666666666,\"#ed7953\"],[0.7777777777777778,\"#fb9f3a\"],[0.8888888888888888,\"#fdca26\"],[1.0,\"#f0f921\"]]}],\"choropleth\":[{\"type\":\"choropleth\",\"colorbar\":{\"outlinewidth\":0,\"ticks\":\"\"}}],\"histogram2d\":[{\"type\":\"histogram2d\",\"colorbar\":{\"outlinewidth\":0,\"ticks\":\"\"},\"colorscale\":[[0.0,\"#0d0887\"],[0.1111111111111111,\"#46039f\"],[0.2222222222222222,\"#7201a8\"],[0.3333333333333333,\"#9c179e\"],[0.4444444444444444,\"#bd3786\"],[0.5555555555555556,\"#d8576b\"],[0.6666666666666666,\"#ed7953\"],[0.7777777777777778,\"#fb9f3a\"],[0.8888888888888888,\"#fdca26\"],[1.0,\"#f0f921\"]]}],\"heatmap\":[{\"type\":\"heatmap\",\"colorbar\":{\"outlinewidth\":0,\"ticks\":\"\"},\"colorscale\":[[0.0,\"#0d0887\"],[0.1111111111111111,\"#46039f\"],[0.2222222222222222,\"#7201a8\"],[0.3333333333333333,\"#9c179e\"],[0.4444444444444444,\"#bd3786\"],[0.5555555555555556,\"#d8576b\"],[0.6666666666666666,\"#ed7953\"],[0.7777777777777778,\"#fb9f3a\"],[0.8888888888888888,\"#fdca26\"],[1.0,\"#f0f921\"]]}],\"heatmapgl\":[{\"type\":\"heatmapgl\",\"colorbar\":{\"outlinewidth\":0,\"ticks\":\"\"},\"colorscale\":[[0.0,\"#0d0887\"],[0.1111111111111111,\"#46039f\"],[0.2222222222222222,\"#7201a8\"],[0.3333333333333333,\"#9c179e\"],[0.4444444444444444,\"#bd3786\"],[0.5555555555555556,\"#d8576b\"],[0.6666666666666666,\"#ed7953\"],[0.7777777777777778,\"#fb9f3a\"],[0.8888888888888888,\"#fdca26\"],[1.0,\"#f0f921\"]]}],\"contourcarpet\":[{\"type\":\"contourcarpet\",\"colorbar\":{\"outlinewidth\":0,\"ticks\":\"\"}}],\"contour\":[{\"type\":\"contour\",\"colorbar\":{\"outlinewidth\":0,\"ticks\":\"\"},\"colorscale\":[[0.0,\"#0d0887\"],[0.1111111111111111,\"#46039f\"],[0.2222222222222222,\"#7201a8\"],[0.3333333333333333,\"#9c179e\"],[0.4444444444444444,\"#bd3786\"],[0.5555555555555556,\"#d8576b\"],[0.6666666666666666,\"#ed7953\"],[0.7777777777777778,\"#fb9f3a\"],[0.8888888888888888,\"#fdca26\"],[1.0,\"#f0f921\"]]}],\"surface\":[{\"type\":\"surface\",\"colorbar\":{\"outlinewidth\":0,\"ticks\":\"\"},\"colorscale\":[[0.0,\"#0d0887\"],[0.1111111111111111,\"#46039f\"],[0.2222222222222222,\"#7201a8\"],[0.3333333333333333,\"#9c179e\"],[0.4444444444444444,\"#bd3786\"],[0.5555555555555556,\"#d8576b\"],[0.6666666666666666,\"#ed7953\"],[0.7777777777777778,\"#fb9f3a\"],[0.8888888888888888,\"#fdca26\"],[1.0,\"#f0f921\"]]}],\"mesh3d\":[{\"type\":\"mesh3d\",\"colorbar\":{\"outlinewidth\":0,\"ticks\":\"\"}}],\"scatter\":[{\"fillpattern\":{\"fillmode\":\"overlay\",\"size\":10,\"solidity\":0.2},\"type\":\"scatter\"}],\"parcoords\":[{\"type\":\"parcoords\",\"line\":{\"colorbar\":{\"outlinewidth\":0,\"ticks\":\"\"}}}],\"scatterpolargl\":[{\"type\":\"scatterpolargl\",\"marker\":{\"colorbar\":{\"outlinewidth\":0,\"ticks\":\"\"}}}],\"bar\":[{\"error_x\":{\"color\":\"#2a3f5f\"},\"error_y\":{\"color\":\"#2a3f5f\"},\"marker\":{\"line\":{\"color\":\"#E5ECF6\",\"width\":0.5},\"pattern\":{\"fillmode\":\"overlay\",\"size\":10,\"solidity\":0.2}},\"type\":\"bar\"}],\"scattergeo\":[{\"type\":\"scattergeo\",\"marker\":{\"colorbar\":{\"outlinewidth\":0,\"ticks\":\"\"}}}],\"scatterpolar\":[{\"type\":\"scatterpolar\",\"marker\":{\"colorbar\":{\"outlinewidth\":0,\"ticks\":\"\"}}}],\"histogram\":[{\"marker\":{\"pattern\":{\"fillmode\":\"overlay\",\"size\":10,\"solidity\":0.2}},\"type\":\"histogram\"}],\"scattergl\":[{\"type\":\"scattergl\",\"marker\":{\"colorbar\":{\"outlinewidth\":0,\"ticks\":\"\"}}}],\"scatter3d\":[{\"type\":\"scatter3d\",\"line\":{\"colorbar\":{\"outlinewidth\":0,\"ticks\":\"\"}},\"marker\":{\"colorbar\":{\"outlinewidth\":0,\"ticks\":\"\"}}}],\"scattermapbox\":[{\"type\":\"scattermapbox\",\"marker\":{\"colorbar\":{\"outlinewidth\":0,\"ticks\":\"\"}}}],\"scatterternary\":[{\"type\":\"scatterternary\",\"marker\":{\"colorbar\":{\"outlinewidth\":0,\"ticks\":\"\"}}}],\"scattercarpet\":[{\"type\":\"scattercarpet\",\"marker\":{\"colorbar\":{\"outlinewidth\":0,\"ticks\":\"\"}}}],\"carpet\":[{\"aaxis\":{\"endlinecolor\":\"#2a3f5f\",\"gridcolor\":\"white\",\"linecolor\":\"white\",\"minorgridcolor\":\"white\",\"startlinecolor\":\"#2a3f5f\"},\"baxis\":{\"endlinecolor\":\"#2a3f5f\",\"gridcolor\":\"white\",\"linecolor\":\"white\",\"minorgridcolor\":\"white\",\"startlinecolor\":\"#2a3f5f\"},\"type\":\"carpet\"}],\"table\":[{\"cells\":{\"fill\":{\"color\":\"#EBF0F8\"},\"line\":{\"color\":\"white\"}},\"header\":{\"fill\":{\"color\":\"#C8D4E3\"},\"line\":{\"color\":\"white\"}},\"type\":\"table\"}],\"barpolar\":[{\"marker\":{\"line\":{\"color\":\"#E5ECF6\",\"width\":0.5},\"pattern\":{\"fillmode\":\"overlay\",\"size\":10,\"solidity\":0.2}},\"type\":\"barpolar\"}],\"pie\":[{\"automargin\":true,\"type\":\"pie\"}]},\"layout\":{\"autotypenumbers\":\"strict\",\"colorway\":[\"#636efa\",\"#EF553B\",\"#00cc96\",\"#ab63fa\",\"#FFA15A\",\"#19d3f3\",\"#FF6692\",\"#B6E880\",\"#FF97FF\",\"#FECB52\"],\"font\":{\"color\":\"#2a3f5f\"},\"hovermode\":\"closest\",\"hoverlabel\":{\"align\":\"left\"},\"paper_bgcolor\":\"white\",\"plot_bgcolor\":\"#E5ECF6\",\"polar\":{\"bgcolor\":\"#E5ECF6\",\"angularaxis\":{\"gridcolor\":\"white\",\"linecolor\":\"white\",\"ticks\":\"\"},\"radialaxis\":{\"gridcolor\":\"white\",\"linecolor\":\"white\",\"ticks\":\"\"}},\"ternary\":{\"bgcolor\":\"#E5ECF6\",\"aaxis\":{\"gridcolor\":\"white\",\"linecolor\":\"white\",\"ticks\":\"\"},\"baxis\":{\"gridcolor\":\"white\",\"linecolor\":\"white\",\"ticks\":\"\"},\"caxis\":{\"gridcolor\":\"white\",\"linecolor\":\"white\",\"ticks\":\"\"}},\"coloraxis\":{\"colorbar\":{\"outlinewidth\":0,\"ticks\":\"\"}},\"colorscale\":{\"sequential\":[[0.0,\"#0d0887\"],[0.1111111111111111,\"#46039f\"],[0.2222222222222222,\"#7201a8\"],[0.3333333333333333,\"#9c179e\"],[0.4444444444444444,\"#bd3786\"],[0.5555555555555556,\"#d8576b\"],[0.6666666666666666,\"#ed7953\"],[0.7777777777777778,\"#fb9f3a\"],[0.8888888888888888,\"#fdca26\"],[1.0,\"#f0f921\"]],\"sequentialminus\":[[0.0,\"#0d0887\"],[0.1111111111111111,\"#46039f\"],[0.2222222222222222,\"#7201a8\"],[0.3333333333333333,\"#9c179e\"],[0.4444444444444444,\"#bd3786\"],[0.5555555555555556,\"#d8576b\"],[0.6666666666666666,\"#ed7953\"],[0.7777777777777778,\"#fb9f3a\"],[0.8888888888888888,\"#fdca26\"],[1.0,\"#f0f921\"]],\"diverging\":[[0,\"#8e0152\"],[0.1,\"#c51b7d\"],[0.2,\"#de77ae\"],[0.3,\"#f1b6da\"],[0.4,\"#fde0ef\"],[0.5,\"#f7f7f7\"],[0.6,\"#e6f5d0\"],[0.7,\"#b8e186\"],[0.8,\"#7fbc41\"],[0.9,\"#4d9221\"],[1,\"#276419\"]]},\"xaxis\":{\"gridcolor\":\"white\",\"linecolor\":\"white\",\"ticks\":\"\",\"title\":{\"standoff\":15},\"zerolinecolor\":\"white\",\"automargin\":true,\"zerolinewidth\":2},\"yaxis\":{\"gridcolor\":\"white\",\"linecolor\":\"white\",\"ticks\":\"\",\"title\":{\"standoff\":15},\"zerolinecolor\":\"white\",\"automargin\":true,\"zerolinewidth\":2},\"scene\":{\"xaxis\":{\"backgroundcolor\":\"#E5ECF6\",\"gridcolor\":\"white\",\"linecolor\":\"white\",\"showbackground\":true,\"ticks\":\"\",\"zerolinecolor\":\"white\",\"gridwidth\":2},\"yaxis\":{\"backgroundcolor\":\"#E5ECF6\",\"gridcolor\":\"white\",\"linecolor\":\"white\",\"showbackground\":true,\"ticks\":\"\",\"zerolinecolor\":\"white\",\"gridwidth\":2},\"zaxis\":{\"backgroundcolor\":\"#E5ECF6\",\"gridcolor\":\"white\",\"linecolor\":\"white\",\"showbackground\":true,\"ticks\":\"\",\"zerolinecolor\":\"white\",\"gridwidth\":2}},\"shapedefaults\":{\"line\":{\"color\":\"#2a3f5f\"}},\"annotationdefaults\":{\"arrowcolor\":\"#2a3f5f\",\"arrowhead\":0,\"arrowwidth\":1},\"geo\":{\"bgcolor\":\"white\",\"landcolor\":\"#E5ECF6\",\"subunitcolor\":\"white\",\"showland\":true,\"showlakes\":true,\"lakecolor\":\"white\"},\"title\":{\"x\":0.05},\"mapbox\":{\"style\":\"light\"}}},\"title\":{\"text\":\"Feature Importance (Approximation)\"},\"xaxis\":{\"title\":{\"text\":\"Features\"}},\"yaxis\":{\"title\":{\"text\":\"Importance\"}}},                        {\"responsive\": true}                    ).then(function(){\n",
              "                            \n",
              "var gd = document.getElementById('e711d5ec-4612-4ce0-82ee-30d3a103c8e4');\n",
              "var x = new MutationObserver(function (mutations, observer) {{\n",
              "        var display = window.getComputedStyle(gd).display;\n",
              "        if (!display || display === 'none') {{\n",
              "            console.log([gd, 'removed!']);\n",
              "            Plotly.purge(gd);\n",
              "            observer.disconnect();\n",
              "        }}\n",
              "}});\n",
              "\n",
              "// Listen for the removal of the full notebook cells\n",
              "var notebookContainer = gd.closest('#notebook-container');\n",
              "if (notebookContainer) {{\n",
              "    x.observe(notebookContainer, {childList: true});\n",
              "}}\n",
              "\n",
              "// Listen for the clearing of the current output cell\n",
              "var outputEl = gd.closest('.output');\n",
              "if (outputEl) {{\n",
              "    x.observe(outputEl, {childList: true});\n",
              "}}\n",
              "\n",
              "                        })                };                            </script>        </div>\n",
              "</body>\n",
              "</html>"
            ]
          },
          "metadata": {}
        }
      ]
    },
    {
      "cell_type": "code",
      "source": [
        "# 5. 3D Scatter Plot (Using three features)\n",
        "\n",
        "# Create the 3D scatter plot\n",
        "fig_3d = go.Figure()\n",
        "\n",
        "fig_3d.add_trace(go.Scatter3d(\n",
        "    x=X_test[:, 0],  # Alcohol feature (Index 0)\n",
        "    y=X_test[:, 9],  # Color Intensity feature (Index 9)\n",
        "    z=X_test[:, 1],  # Malic Acid feature (Index 1)\n",
        "    mode='markers',\n",
        "    marker=dict(size=5, color=y_pred, colorscale='Viridis', opacity=0.8),\n",
        "    text=y_test,\n",
        "    name='3D Scatter'\n",
        "))\n",
        "\n",
        "fig_3d.update_layout(\n",
        "    title='3D Scatter Plot of Predictions',\n",
        "    scene=dict(\n",
        "        xaxis_title='Alcohol',\n",
        "        yaxis_title='Color Intensity',\n",
        "        zaxis_title='Malic Acid'\n",
        "    )\n",
        ")\n",
        "\n",
        "fig_3d.show()"
      ],
      "metadata": {
        "colab": {
          "base_uri": "https://localhost:8080/",
          "height": 542
        },
        "id": "cWvZ9Fxhb9Jl",
        "outputId": "5443d434-2377-4149-81ab-2de8fac8cf75"
      },
      "execution_count": 150,
      "outputs": [
        {
          "output_type": "display_data",
          "data": {
            "text/html": [
              "<html>\n",
              "<head><meta charset=\"utf-8\" /></head>\n",
              "<body>\n",
              "    <div>            <script src=\"https://cdnjs.cloudflare.com/ajax/libs/mathjax/2.7.5/MathJax.js?config=TeX-AMS-MML_SVG\"></script><script type=\"text/javascript\">if (window.MathJax && window.MathJax.Hub && window.MathJax.Hub.Config) {window.MathJax.Hub.Config({SVG: {font: \"STIX-Web\"}});}</script>                <script type=\"text/javascript\">window.PlotlyConfig = {MathJaxConfig: 'local'};</script>\n",
              "        <script charset=\"utf-8\" src=\"https://cdn.plot.ly/plotly-2.24.1.min.js\"></script>                <div id=\"faec1eb8-23de-4bd2-9cf5-a9fec93b75a5\" class=\"plotly-graph-div\" style=\"height:525px; width:100%;\"></div>            <script type=\"text/javascript\">                                    window.PLOTLYENV=window.PLOTLYENV || {};                                    if (document.getElementById(\"faec1eb8-23de-4bd2-9cf5-a9fec93b75a5\")) {                    Plotly.newPlot(                        \"faec1eb8-23de-4bd2-9cf5-a9fec93b75a5\",                        [{\"marker\":{\"color\":[5.303982121501231,5.095708465436094,6.266738403340178,6.39604082109696,2.8391984390381206,6.338041403199146,2.5861219706770218,9.045558139939441,3.3324287839175755,7.109893444659791,4.468252704717975,7.899364080748369,4.344526757954742,6.463758566992939,6.074993177515485,2.811481684145565,2.6445905139800994,2.6985514680665803,5.718496351989496,2.7441495510778147,6.8872085258601565,3.564085440585528,4.732976302848515,8.208097237975146,7.160075735409092,8.411103726012197,2.846942452411186,3.414977117614827,3.3260268191834212,6.353461496941767,5.069793693688209,3.0507467120348633,8.55155748909709,6.457984242218822,5.430565401931158,5.786038775738433],\"colorscale\":[[0.0,\"#440154\"],[0.1111111111111111,\"#482878\"],[0.2222222222222222,\"#3e4989\"],[0.3333333333333333,\"#31688e\"],[0.4444444444444444,\"#26828e\"],[0.5555555555555556,\"#1f9e89\"],[0.6666666666666666,\"#35b779\"],[0.7777777777777778,\"#6ece58\"],[0.8888888888888888,\"#b5de2b\"],[1.0,\"#fde725\"]],\"opacity\":0.8,\"size\":5},\"mode\":\"markers\",\"name\":\"3D Scatter\",\"text\":[5.1,5.24,4.6,5.7,4.68,6.2,1.28,7.3,2.65,5.6,3.52,8.6,4.28,3.4,7.3,2.0,3.08,2.2,7.22,2.9,8.7,5.3,3.27,8.5,9.899999,9.58,2.06,4.6,2.4,6.25,4.7,2.12,4.0,6.9,5.6,5.43],\"x\":[1.0067284933165483,0.9264605426954781,-1.0060998578009783,1.4224571972943556,-0.047969864089289556,1.3281221485090557,-0.3759823240693927,-0.9446180286952036,0.5225151041475544,-0.7360649702517925,0.9916698110483388,-0.860283626684502,0.422754109268995,-1.003553131814561,1.287084279672656,-0.25053548828279154,-0.447161658753431,-0.31618404327129973,1.3857328083978846,-0.22131717964651243,2.1413862281356066,0.6198903986635841,-0.8457604002091268,-0.7635560404046131,-1.2567403212302508,-1.0002037228333918,-0.22390382291488223,0.12033395278754035,-0.7658430150826976,1.2693649338008066,1.1252606823322864,-0.3182323686321586,-0.9892000242779577,1.468731463103351,1.0664365202709116,1.6278545491780256],\"y\":[0.24720386328356114,0.240653513437148,0.10974998978874288,-0.4914954724655452,-0.02053386305862731,-0.12421199808613256,-0.18314108469582713,-0.14022391713946278,-0.15086545407093352,-0.07709300213511212,-0.12244167924170898,-0.034151739432517064,-0.14613934505827728,0.15450393393450548,0.06660116859280095,0.21754692454461422,0.16826202846200783,-0.2860062157742859,0.0030434466399951086,0.2875939026595804,-0.12071163569932133,-0.014082889136690905,0.48694696196133797,0.02993427313301454,0.10693546743788146,-0.1706944363763845,0.003821253520877377,-0.0610560083215165,-0.15133944284468115,-0.26235017618423895,-0.22205531224784056,-0.14540404354380873,-0.15366275804331914,-0.3634856078318354,-0.33691248285846653,0.24443111977556992],\"z\":[0.09196210431347988,0.839564899522928,0.3172952563646283,0.49008237334549604,-1.012584969999786,0.9431534332744963,-0.49338498303587347,0.6938399210144857,-0.7187018202810682,0.09145966548029497,-0.18077531506573233,0.2906032718763176,0.21150334562863232,-0.2376874529779083,0.45027242848431376,-0.6443313980453536,-0.7833015011955073,-0.6443488126698601,-0.09579755030533982,-0.6501385263351154,0.933686681399898,-0.9062190954538747,-0.14250949235024518,0.702652782126104,-0.051785359978206214,0.2998928824626538,-0.6752285087825475,-0.4182305097041091,-0.4406629684293724,0.19667713133912637,-0.005265332672281879,-0.564223867457598,0.4323457037027194,0.40132119391848947,0.257936480551446,0.13483227388894153],\"type\":\"scatter3d\"}],                        {\"template\":{\"data\":{\"histogram2dcontour\":[{\"type\":\"histogram2dcontour\",\"colorbar\":{\"outlinewidth\":0,\"ticks\":\"\"},\"colorscale\":[[0.0,\"#0d0887\"],[0.1111111111111111,\"#46039f\"],[0.2222222222222222,\"#7201a8\"],[0.3333333333333333,\"#9c179e\"],[0.4444444444444444,\"#bd3786\"],[0.5555555555555556,\"#d8576b\"],[0.6666666666666666,\"#ed7953\"],[0.7777777777777778,\"#fb9f3a\"],[0.8888888888888888,\"#fdca26\"],[1.0,\"#f0f921\"]]}],\"choropleth\":[{\"type\":\"choropleth\",\"colorbar\":{\"outlinewidth\":0,\"ticks\":\"\"}}],\"histogram2d\":[{\"type\":\"histogram2d\",\"colorbar\":{\"outlinewidth\":0,\"ticks\":\"\"},\"colorscale\":[[0.0,\"#0d0887\"],[0.1111111111111111,\"#46039f\"],[0.2222222222222222,\"#7201a8\"],[0.3333333333333333,\"#9c179e\"],[0.4444444444444444,\"#bd3786\"],[0.5555555555555556,\"#d8576b\"],[0.6666666666666666,\"#ed7953\"],[0.7777777777777778,\"#fb9f3a\"],[0.8888888888888888,\"#fdca26\"],[1.0,\"#f0f921\"]]}],\"heatmap\":[{\"type\":\"heatmap\",\"colorbar\":{\"outlinewidth\":0,\"ticks\":\"\"},\"colorscale\":[[0.0,\"#0d0887\"],[0.1111111111111111,\"#46039f\"],[0.2222222222222222,\"#7201a8\"],[0.3333333333333333,\"#9c179e\"],[0.4444444444444444,\"#bd3786\"],[0.5555555555555556,\"#d8576b\"],[0.6666666666666666,\"#ed7953\"],[0.7777777777777778,\"#fb9f3a\"],[0.8888888888888888,\"#fdca26\"],[1.0,\"#f0f921\"]]}],\"heatmapgl\":[{\"type\":\"heatmapgl\",\"colorbar\":{\"outlinewidth\":0,\"ticks\":\"\"},\"colorscale\":[[0.0,\"#0d0887\"],[0.1111111111111111,\"#46039f\"],[0.2222222222222222,\"#7201a8\"],[0.3333333333333333,\"#9c179e\"],[0.4444444444444444,\"#bd3786\"],[0.5555555555555556,\"#d8576b\"],[0.6666666666666666,\"#ed7953\"],[0.7777777777777778,\"#fb9f3a\"],[0.8888888888888888,\"#fdca26\"],[1.0,\"#f0f921\"]]}],\"contourcarpet\":[{\"type\":\"contourcarpet\",\"colorbar\":{\"outlinewidth\":0,\"ticks\":\"\"}}],\"contour\":[{\"type\":\"contour\",\"colorbar\":{\"outlinewidth\":0,\"ticks\":\"\"},\"colorscale\":[[0.0,\"#0d0887\"],[0.1111111111111111,\"#46039f\"],[0.2222222222222222,\"#7201a8\"],[0.3333333333333333,\"#9c179e\"],[0.4444444444444444,\"#bd3786\"],[0.5555555555555556,\"#d8576b\"],[0.6666666666666666,\"#ed7953\"],[0.7777777777777778,\"#fb9f3a\"],[0.8888888888888888,\"#fdca26\"],[1.0,\"#f0f921\"]]}],\"surface\":[{\"type\":\"surface\",\"colorbar\":{\"outlinewidth\":0,\"ticks\":\"\"},\"colorscale\":[[0.0,\"#0d0887\"],[0.1111111111111111,\"#46039f\"],[0.2222222222222222,\"#7201a8\"],[0.3333333333333333,\"#9c179e\"],[0.4444444444444444,\"#bd3786\"],[0.5555555555555556,\"#d8576b\"],[0.6666666666666666,\"#ed7953\"],[0.7777777777777778,\"#fb9f3a\"],[0.8888888888888888,\"#fdca26\"],[1.0,\"#f0f921\"]]}],\"mesh3d\":[{\"type\":\"mesh3d\",\"colorbar\":{\"outlinewidth\":0,\"ticks\":\"\"}}],\"scatter\":[{\"fillpattern\":{\"fillmode\":\"overlay\",\"size\":10,\"solidity\":0.2},\"type\":\"scatter\"}],\"parcoords\":[{\"type\":\"parcoords\",\"line\":{\"colorbar\":{\"outlinewidth\":0,\"ticks\":\"\"}}}],\"scatterpolargl\":[{\"type\":\"scatterpolargl\",\"marker\":{\"colorbar\":{\"outlinewidth\":0,\"ticks\":\"\"}}}],\"bar\":[{\"error_x\":{\"color\":\"#2a3f5f\"},\"error_y\":{\"color\":\"#2a3f5f\"},\"marker\":{\"line\":{\"color\":\"#E5ECF6\",\"width\":0.5},\"pattern\":{\"fillmode\":\"overlay\",\"size\":10,\"solidity\":0.2}},\"type\":\"bar\"}],\"scattergeo\":[{\"type\":\"scattergeo\",\"marker\":{\"colorbar\":{\"outlinewidth\":0,\"ticks\":\"\"}}}],\"scatterpolar\":[{\"type\":\"scatterpolar\",\"marker\":{\"colorbar\":{\"outlinewidth\":0,\"ticks\":\"\"}}}],\"histogram\":[{\"marker\":{\"pattern\":{\"fillmode\":\"overlay\",\"size\":10,\"solidity\":0.2}},\"type\":\"histogram\"}],\"scattergl\":[{\"type\":\"scattergl\",\"marker\":{\"colorbar\":{\"outlinewidth\":0,\"ticks\":\"\"}}}],\"scatter3d\":[{\"type\":\"scatter3d\",\"line\":{\"colorbar\":{\"outlinewidth\":0,\"ticks\":\"\"}},\"marker\":{\"colorbar\":{\"outlinewidth\":0,\"ticks\":\"\"}}}],\"scattermapbox\":[{\"type\":\"scattermapbox\",\"marker\":{\"colorbar\":{\"outlinewidth\":0,\"ticks\":\"\"}}}],\"scatterternary\":[{\"type\":\"scatterternary\",\"marker\":{\"colorbar\":{\"outlinewidth\":0,\"ticks\":\"\"}}}],\"scattercarpet\":[{\"type\":\"scattercarpet\",\"marker\":{\"colorbar\":{\"outlinewidth\":0,\"ticks\":\"\"}}}],\"carpet\":[{\"aaxis\":{\"endlinecolor\":\"#2a3f5f\",\"gridcolor\":\"white\",\"linecolor\":\"white\",\"minorgridcolor\":\"white\",\"startlinecolor\":\"#2a3f5f\"},\"baxis\":{\"endlinecolor\":\"#2a3f5f\",\"gridcolor\":\"white\",\"linecolor\":\"white\",\"minorgridcolor\":\"white\",\"startlinecolor\":\"#2a3f5f\"},\"type\":\"carpet\"}],\"table\":[{\"cells\":{\"fill\":{\"color\":\"#EBF0F8\"},\"line\":{\"color\":\"white\"}},\"header\":{\"fill\":{\"color\":\"#C8D4E3\"},\"line\":{\"color\":\"white\"}},\"type\":\"table\"}],\"barpolar\":[{\"marker\":{\"line\":{\"color\":\"#E5ECF6\",\"width\":0.5},\"pattern\":{\"fillmode\":\"overlay\",\"size\":10,\"solidity\":0.2}},\"type\":\"barpolar\"}],\"pie\":[{\"automargin\":true,\"type\":\"pie\"}]},\"layout\":{\"autotypenumbers\":\"strict\",\"colorway\":[\"#636efa\",\"#EF553B\",\"#00cc96\",\"#ab63fa\",\"#FFA15A\",\"#19d3f3\",\"#FF6692\",\"#B6E880\",\"#FF97FF\",\"#FECB52\"],\"font\":{\"color\":\"#2a3f5f\"},\"hovermode\":\"closest\",\"hoverlabel\":{\"align\":\"left\"},\"paper_bgcolor\":\"white\",\"plot_bgcolor\":\"#E5ECF6\",\"polar\":{\"bgcolor\":\"#E5ECF6\",\"angularaxis\":{\"gridcolor\":\"white\",\"linecolor\":\"white\",\"ticks\":\"\"},\"radialaxis\":{\"gridcolor\":\"white\",\"linecolor\":\"white\",\"ticks\":\"\"}},\"ternary\":{\"bgcolor\":\"#E5ECF6\",\"aaxis\":{\"gridcolor\":\"white\",\"linecolor\":\"white\",\"ticks\":\"\"},\"baxis\":{\"gridcolor\":\"white\",\"linecolor\":\"white\",\"ticks\":\"\"},\"caxis\":{\"gridcolor\":\"white\",\"linecolor\":\"white\",\"ticks\":\"\"}},\"coloraxis\":{\"colorbar\":{\"outlinewidth\":0,\"ticks\":\"\"}},\"colorscale\":{\"sequential\":[[0.0,\"#0d0887\"],[0.1111111111111111,\"#46039f\"],[0.2222222222222222,\"#7201a8\"],[0.3333333333333333,\"#9c179e\"],[0.4444444444444444,\"#bd3786\"],[0.5555555555555556,\"#d8576b\"],[0.6666666666666666,\"#ed7953\"],[0.7777777777777778,\"#fb9f3a\"],[0.8888888888888888,\"#fdca26\"],[1.0,\"#f0f921\"]],\"sequentialminus\":[[0.0,\"#0d0887\"],[0.1111111111111111,\"#46039f\"],[0.2222222222222222,\"#7201a8\"],[0.3333333333333333,\"#9c179e\"],[0.4444444444444444,\"#bd3786\"],[0.5555555555555556,\"#d8576b\"],[0.6666666666666666,\"#ed7953\"],[0.7777777777777778,\"#fb9f3a\"],[0.8888888888888888,\"#fdca26\"],[1.0,\"#f0f921\"]],\"diverging\":[[0,\"#8e0152\"],[0.1,\"#c51b7d\"],[0.2,\"#de77ae\"],[0.3,\"#f1b6da\"],[0.4,\"#fde0ef\"],[0.5,\"#f7f7f7\"],[0.6,\"#e6f5d0\"],[0.7,\"#b8e186\"],[0.8,\"#7fbc41\"],[0.9,\"#4d9221\"],[1,\"#276419\"]]},\"xaxis\":{\"gridcolor\":\"white\",\"linecolor\":\"white\",\"ticks\":\"\",\"title\":{\"standoff\":15},\"zerolinecolor\":\"white\",\"automargin\":true,\"zerolinewidth\":2},\"yaxis\":{\"gridcolor\":\"white\",\"linecolor\":\"white\",\"ticks\":\"\",\"title\":{\"standoff\":15},\"zerolinecolor\":\"white\",\"automargin\":true,\"zerolinewidth\":2},\"scene\":{\"xaxis\":{\"backgroundcolor\":\"#E5ECF6\",\"gridcolor\":\"white\",\"linecolor\":\"white\",\"showbackground\":true,\"ticks\":\"\",\"zerolinecolor\":\"white\",\"gridwidth\":2},\"yaxis\":{\"backgroundcolor\":\"#E5ECF6\",\"gridcolor\":\"white\",\"linecolor\":\"white\",\"showbackground\":true,\"ticks\":\"\",\"zerolinecolor\":\"white\",\"gridwidth\":2},\"zaxis\":{\"backgroundcolor\":\"#E5ECF6\",\"gridcolor\":\"white\",\"linecolor\":\"white\",\"showbackground\":true,\"ticks\":\"\",\"zerolinecolor\":\"white\",\"gridwidth\":2}},\"shapedefaults\":{\"line\":{\"color\":\"#2a3f5f\"}},\"annotationdefaults\":{\"arrowcolor\":\"#2a3f5f\",\"arrowhead\":0,\"arrowwidth\":1},\"geo\":{\"bgcolor\":\"white\",\"landcolor\":\"#E5ECF6\",\"subunitcolor\":\"white\",\"showland\":true,\"showlakes\":true,\"lakecolor\":\"white\"},\"title\":{\"x\":0.05},\"mapbox\":{\"style\":\"light\"}}},\"title\":{\"text\":\"3D Scatter Plot of Predictions\"},\"scene\":{\"xaxis\":{\"title\":{\"text\":\"Alcohol\"}},\"yaxis\":{\"title\":{\"text\":\"Color Intensity\"}},\"zaxis\":{\"title\":{\"text\":\"Malic Acid\"}}}},                        {\"responsive\": true}                    ).then(function(){\n",
              "                            \n",
              "var gd = document.getElementById('faec1eb8-23de-4bd2-9cf5-a9fec93b75a5');\n",
              "var x = new MutationObserver(function (mutations, observer) {{\n",
              "        var display = window.getComputedStyle(gd).display;\n",
              "        if (!display || display === 'none') {{\n",
              "            console.log([gd, 'removed!']);\n",
              "            Plotly.purge(gd);\n",
              "            observer.disconnect();\n",
              "        }}\n",
              "}});\n",
              "\n",
              "// Listen for the removal of the full notebook cells\n",
              "var notebookContainer = gd.closest('#notebook-container');\n",
              "if (notebookContainer) {{\n",
              "    x.observe(notebookContainer, {childList: true});\n",
              "}}\n",
              "\n",
              "// Listen for the clearing of the current output cell\n",
              "var outputEl = gd.closest('.output');\n",
              "if (outputEl) {{\n",
              "    x.observe(outputEl, {childList: true});\n",
              "}}\n",
              "\n",
              "                        })                };                            </script>        </div>\n",
              "</body>\n",
              "</html>"
            ]
          },
          "metadata": {}
        }
      ]
    }
  ]
}